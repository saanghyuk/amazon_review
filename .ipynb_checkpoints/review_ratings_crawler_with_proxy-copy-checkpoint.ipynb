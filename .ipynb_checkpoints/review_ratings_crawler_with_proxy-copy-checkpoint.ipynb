{
 "cells": [
  {
   "cell_type": "code",
   "execution_count": 1,
   "metadata": {},
   "outputs": [],
   "source": [
    "import requests\n",
    "from bs4 import BeautifulSoup\n",
    "import pandas as pd\n",
    "from urllib.parse import quote"
   ]
  },
  {
   "cell_type": "code",
   "execution_count": 2,
   "metadata": {},
   "outputs": [],
   "source": [
    "\n",
    "# Input Search Query\n",
    "SEARCH_QUERY = 'tv'"
   ]
  },
  {
   "cell_type": "code",
   "execution_count": 3,
   "metadata": {},
   "outputs": [],
   "source": [
    "PROXY_CRAWL_TOKEN = '8wJqpL2FErGiPGX7QWP6Aw'\n",
    "# PROXY_CRAWL_TOKEN = 'K-9nDJsiR1tb0vbXVAaSOQ'"
   ]
  },
  {
   "cell_type": "code",
   "execution_count": 4,
   "metadata": {},
   "outputs": [],
   "source": [
    "\n",
    "def get_proxy(url):\n",
    "    quoted_url = quote(url)\n",
    "    res = requests.get(f'https://api.proxycrawl.com/?token={PROXY_CRAWL_TOKEN}&url={quoted_url}')\n",
    "    res.raise_for_status() # Raise error if it fails\n",
    "    return res.content\n"
   ]
  },
  {
   "cell_type": "code",
   "execution_count": null,
   "metadata": {},
   "outputs": [],
   "source": []
  },
  {
   "cell_type": "code",
   "execution_count": 5,
   "metadata": {},
   "outputs": [],
   "source": [
    "\n",
    "#### A function to get the content of the page of required query\n",
    "def search_in_amazon(search_query):\n",
    "    url = f\"https://www.amazon.com/s?k={search_query}\"\n",
    "    return get_proxy(url)\n",
    "\n",
    "#### A function to get the contents of individual product pages using 'data-asin' number (unique identification number)\n",
    "def search_asin(asin):\n",
    "    url = f\"https://www.amazon.com/dp/{asin}\"\n",
    "    return get_proxy(url)\n",
    "\n",
    "#### A function to pass on the link of 'see all reviews' and extract the content\n",
    "def search_reviews(review_link):\n",
    "    url = f\"https://www.amazon.com{review_link}\"\n",
    "    return get_proxy(url)\n"
   ]
  },
  {
   "cell_type": "code",
   "execution_count": null,
   "metadata": {},
   "outputs": [],
   "source": []
  },
  {
   "cell_type": "code",
   "execution_count": null,
   "metadata": {},
   "outputs": [],
   "source": []
  },
  {
   "cell_type": "markdown",
   "metadata": {},
   "source": [
    "### Product Name extraction"
   ]
  },
  {
   "cell_type": "code",
   "execution_count": 6,
   "metadata": {},
   "outputs": [
    {
     "name": "stdout",
     "output_type": "stream",
     "text": [
      "Start to extract product names\n",
      "Iteration 1/21\n",
      "Iteration 2/21\n",
      "Iteration 3/21\n",
      "Iteration 4/21\n",
      "Iteration 5/21\n",
      "Iteration 6/21\n",
      "Iteration 7/21\n",
      "Iteration 8/21\n",
      "Iteration 9/21\n",
      "Iteration 10/21\n",
      "Iteration 11/21\n",
      "Iteration 12/21\n",
      "Iteration 13/21\n",
      "Iteration 14/21\n",
      "Iteration 15/21\n",
      "Iteration 16/21\n",
      "Iteration 17/21\n",
      "Iteration 18/21\n",
      "Iteration 19/21\n",
      "Iteration 20/21\n",
      "Finished: 306 product names found\n"
     ]
    }
   ],
   "source": [
    "print(\"Start to extract product names\")\n",
    "\n",
    "product_names = []\n",
    "data_asin = []\n",
    "LAST_PAGE = 21\n",
    "for i in range(1,LAST_PAGE):\n",
    "    print(f\"Iteration {i}/{LAST_PAGE}\")\n",
    "    html = search_in_amazon(SEARCH_QUERY+'&page='+str(i))\n",
    "    soup = BeautifulSoup(html, 'html5lib')\n",
    "    items = soup.findAll(\"span\",{'class':'a-size-medium a-color-base a-text-normal'})\n",
    "    if len(items) == 0:\n",
    "        print(f\"Warning: No product name found in this page\")\n",
    "    for i in items:\n",
    "        product_names.append(i.text) # adding the product names to the list\n",
    "\n",
    "    for i in soup.findAll(\"div\", {\"class\":\"s-result-item\"}):\n",
    "        if i['data-asin']:\n",
    "            data_asin.append(i['data-asin'])\n",
    "\n",
    "print(f\"Finished: {len(product_names)} product names found\")"
   ]
  },
  {
   "cell_type": "code",
   "execution_count": 7,
   "metadata": {
    "scrolled": true
   },
   "outputs": [
    {
     "data": {
      "text/plain": [
       "306"
      ]
     },
     "execution_count": 7,
     "metadata": {},
     "output_type": "execute_result"
    }
   ],
   "source": [
    "len(product_names)"
   ]
  },
  {
   "cell_type": "code",
   "execution_count": null,
   "metadata": {},
   "outputs": [],
   "source": []
  },
  {
   "cell_type": "markdown",
   "metadata": {},
   "source": [
    "When scrawling the all pages of product list in specific search query, I could discover that there are same products in the list. <br>\n",
    "Therefore, I needed to remove the same product in the list of ASIN."
   ]
  },
  {
   "cell_type": "code",
   "execution_count": 8,
   "metadata": {
    "scrolled": true
   },
   "outputs": [
    {
     "name": "stdout",
     "output_type": "stream",
     "text": [
      "Start to search asin\n"
     ]
    }
   ],
   "source": [
    "print(\"Start to search asin\")"
   ]
  },
  {
   "cell_type": "code",
   "execution_count": 9,
   "metadata": {},
   "outputs": [
    {
     "name": "stdout",
     "output_type": "stream",
     "text": [
      "Searching asin 0/289\n",
      "Searching asin 1/289\n",
      "Searching asin 2/289\n",
      "Searching asin 3/289\n",
      "Searching asin 4/289\n",
      "Searching asin 5/289\n",
      "Searching asin 6/289\n",
      "Searching asin 7/289\n",
      "Searching asin 8/289\n",
      "Searching asin 9/289\n",
      "Searching asin 10/289\n",
      "Searching asin 11/289\n",
      "Searching asin 12/289\n",
      "Searching asin 13/289\n",
      "Searching asin 14/289\n",
      "Searching asin 15/289\n",
      "Searching asin 16/289\n",
      "Searching asin 17/289\n",
      "Searching asin 18/289\n",
      "Searching asin 19/289\n",
      "Searching asin 20/289\n",
      "Searching asin 21/289\n",
      "Searching asin 22/289\n",
      "Searching asin 23/289\n",
      "Searching asin 24/289\n",
      "Searching asin 25/289\n",
      "Searching asin 26/289\n",
      "Searching asin 27/289\n",
      "Searching asin 28/289\n",
      "Searching asin 29/289\n",
      "Searching asin 30/289\n",
      "Searching asin 31/289\n",
      "Searching asin 32/289\n",
      "Searching asin 33/289\n",
      "Searching asin 34/289\n",
      "Searching asin 35/289\n",
      "Searching asin 36/289\n",
      "Searching asin 37/289\n",
      "Searching asin 38/289\n",
      "Searching asin 39/289\n",
      "Searching asin 40/289\n",
      "Searching asin 41/289\n",
      "Searching asin 42/289\n",
      "Searching asin 43/289\n",
      "Searching asin 44/289\n",
      "Searching asin 45/289\n",
      "Searching asin 46/289\n",
      "Searching asin 47/289\n",
      "Searching asin 48/289\n",
      "Searching asin 49/289\n",
      "Searching asin 50/289\n",
      "Searching asin 51/289\n",
      "Searching asin 52/289\n",
      "Searching asin 53/289\n",
      "Searching asin 54/289\n",
      "Searching asin 55/289\n",
      "Searching asin 56/289\n",
      "Searching asin 57/289\n",
      "Searching asin 58/289\n",
      "Searching asin 59/289\n",
      "Searching asin 60/289\n",
      "Searching asin 61/289\n",
      "Searching asin 62/289\n",
      "Searching asin 63/289\n",
      "Searching asin 64/289\n",
      "Searching asin 65/289\n",
      "Searching asin 66/289\n",
      "Searching asin 67/289\n",
      "Searching asin 68/289\n",
      "Searching asin 69/289\n",
      "Searching asin 70/289\n",
      "Searching asin 71/289\n",
      "Searching asin 72/289\n",
      "Searching asin 73/289\n",
      "Searching asin 74/289\n",
      "Searching asin 75/289\n",
      "Searching asin 76/289\n",
      "Searching asin 77/289\n",
      "Searching asin 78/289\n",
      "Searching asin 79/289\n",
      "Searching asin 80/289\n",
      "Searching asin 81/289\n",
      "Searching asin 82/289\n",
      "Searching asin 83/289\n",
      "Searching asin 84/289\n",
      "Searching asin 85/289\n",
      "Searching asin 86/289\n",
      "Searching asin 87/289\n",
      "Searching asin 88/289\n",
      "Searching asin 89/289\n",
      "Searching asin 90/289\n",
      "Searching asin 91/289\n",
      "Searching asin 92/289\n",
      "Searching asin 93/289\n",
      "Searching asin 94/289\n",
      "Searching asin 95/289\n",
      "Searching asin 96/289\n",
      "Searching asin 97/289\n",
      "Searching asin 98/289\n",
      "Searching asin 99/289\n",
      "Searching asin 100/289\n",
      "Searching asin 101/289\n",
      "Searching asin 102/289\n",
      "Searching asin 103/289\n",
      "Searching asin 104/289\n",
      "Searching asin 105/289\n",
      "Searching asin 106/289\n",
      "Searching asin 107/289\n",
      "Searching asin 108/289\n",
      "Searching asin 109/289\n",
      "Searching asin 110/289\n",
      "Searching asin 111/289\n",
      "Searching asin 112/289\n",
      "Searching asin 113/289\n",
      "Searching asin 114/289\n",
      "Searching asin 115/289\n",
      "Searching asin 116/289\n",
      "Searching asin 117/289\n",
      "Searching asin 118/289\n",
      "Searching asin 119/289\n",
      "Searching asin 120/289\n",
      "Searching asin 121/289\n",
      "Searching asin 122/289\n",
      "Searching asin 123/289\n",
      "Searching asin 124/289\n",
      "Searching asin 125/289\n",
      "Searching asin 126/289\n",
      "Searching asin 127/289\n",
      "Searching asin 128/289\n",
      "Searching asin 129/289\n",
      "Searching asin 130/289\n",
      "Searching asin 131/289\n",
      "Searching asin 132/289\n",
      "Searching asin 133/289\n",
      "Searching asin 134/289\n",
      "Searching asin 135/289\n",
      "Searching asin 136/289\n",
      "Searching asin 137/289\n",
      "Searching asin 138/289\n",
      "Searching asin 139/289\n",
      "Searching asin 140/289\n",
      "Searching asin 141/289\n",
      "Searching asin 142/289\n",
      "Searching asin 143/289\n",
      "Searching asin 144/289\n",
      "Searching asin 145/289\n",
      "Searching asin 146/289\n",
      "Searching asin 147/289\n",
      "Searching asin 148/289\n",
      "Searching asin 149/289\n",
      "Searching asin 150/289\n",
      "Searching asin 151/289\n",
      "Searching asin 152/289\n",
      "Searching asin 153/289\n",
      "Searching asin 154/289\n",
      "Searching asin 155/289\n",
      "Searching asin 156/289\n",
      "Searching asin 157/289\n",
      "Searching asin 158/289\n",
      "Searching asin 159/289\n",
      "Searching asin 160/289\n",
      "Searching asin 161/289\n",
      "Searching asin 162/289\n",
      "Searching asin 163/289\n",
      "Searching asin 164/289\n",
      "Searching asin 165/289\n",
      "Searching asin 166/289\n",
      "Searching asin 167/289\n",
      "Searching asin 168/289\n",
      "Searching asin 169/289\n",
      "Searching asin 170/289\n",
      "Searching asin 171/289\n",
      "Searching asin 172/289\n",
      "Searching asin 173/289\n",
      "Searching asin 174/289\n",
      "Searching asin 175/289\n",
      "Searching asin 176/289\n",
      "Searching asin 177/289\n",
      "Searching asin 178/289\n",
      "Searching asin 179/289\n",
      "Searching asin 180/289\n",
      "Searching asin 181/289\n",
      "Searching asin 182/289\n",
      "Searching asin 183/289\n",
      "Searching asin 184/289\n",
      "Searching asin 185/289\n",
      "Searching asin 186/289\n",
      "Searching asin 187/289\n",
      "Searching asin 188/289\n",
      "Searching asin 189/289\n",
      "Searching asin 190/289\n",
      "Searching asin 191/289\n",
      "Searching asin 192/289\n",
      "Searching asin 193/289\n",
      "Searching asin 194/289\n",
      "Searching asin 195/289\n",
      "Searching asin 196/289\n",
      "Searching asin 197/289\n",
      "Searching asin 198/289\n",
      "Searching asin 199/289\n",
      "Searching asin 200/289\n",
      "Searching asin 201/289\n",
      "Searching asin 202/289\n",
      "Searching asin 203/289\n",
      "Searching asin 204/289\n",
      "Searching asin 205/289\n",
      "Searching asin 206/289\n",
      "Searching asin 207/289\n",
      "Searching asin 208/289\n",
      "Searching asin 209/289\n",
      "Searching asin 210/289\n",
      "Searching asin 211/289\n",
      "Searching asin 212/289\n",
      "Searching asin 213/289\n",
      "Searching asin 214/289\n",
      "Searching asin 215/289\n",
      "Searching asin 216/289\n",
      "Searching asin 217/289\n",
      "Searching asin 218/289\n",
      "Searching asin 219/289\n",
      "Searching asin 220/289\n",
      "Searching asin 221/289\n",
      "Searching asin 222/289\n",
      "Searching asin 223/289\n",
      "Searching asin 224/289\n",
      "Searching asin 225/289\n",
      "Searching asin 226/289\n",
      "Searching asin 227/289\n",
      "Searching asin 228/289\n",
      "Searching asin 229/289\n",
      "Searching asin 230/289\n",
      "Searching asin 231/289\n",
      "Searching asin 232/289\n",
      "Searching asin 233/289\n",
      "Searching asin 234/289\n",
      "Searching asin 235/289\n",
      "Searching asin 236/289\n",
      "Searching asin 237/289\n",
      "Searching asin 238/289\n",
      "Searching asin 239/289\n",
      "Searching asin 240/289\n",
      "Searching asin 241/289\n",
      "Searching asin 242/289\n",
      "Searching asin 243/289\n",
      "Searching asin 244/289\n",
      "Searching asin 245/289\n",
      "Searching asin 246/289\n",
      "Searching asin 247/289\n",
      "Searching asin 248/289\n",
      "Searching asin 249/289\n",
      "Searching asin 250/289\n",
      "Searching asin 251/289\n",
      "Searching asin 252/289\n",
      "Searching asin 253/289\n",
      "Searching asin 254/289\n",
      "Searching asin 255/289\n",
      "Searching asin 256/289\n",
      "Searching asin 257/289\n",
      "Searching asin 258/289\n",
      "Searching asin 259/289\n",
      "Searching asin 260/289\n",
      "Searching asin 261/289\n",
      "Searching asin 262/289\n",
      "Searching asin 263/289\n",
      "Searching asin 264/289\n",
      "Searching asin 265/289\n",
      "Searching asin 266/289\n",
      "Searching asin 267/289\n",
      "Searching asin 268/289\n",
      "Searching asin 269/289\n",
      "Searching asin 270/289\n",
      "Searching asin 271/289\n",
      "Searching asin 272/289\n",
      "Searching asin 273/289\n",
      "Searching asin 274/289\n",
      "Searching asin 275/289\n",
      "Searching asin 276/289\n",
      "Searching asin 277/289\n",
      "Searching asin 278/289\n",
      "Searching asin 279/289\n",
      "Searching asin 280/289\n",
      "Searching asin 281/289\n",
      "Searching asin 282/289\n",
      "Searching asin 283/289\n",
      "Searching asin 284/289\n",
      "Searching asin 285/289\n",
      "Searching asin 286/289\n",
      "Searching asin 287/289\n",
      "Searching asin 288/289\n"
     ]
    }
   ],
   "source": [
    "\n",
    "data_asin = list(set(data_asin)) # Leave unique values only\n",
    "\n",
    "links = []\n",
    "for i in range(len(data_asin)):\n",
    "    print(f\"Searching asin {i}/{len(data_asin)}\")\n",
    "    html = search_asin(data_asin[i])\n",
    "    soup = BeautifulSoup(html, 'html5lib')\n",
    "    for i in soup.findAll(\"a\",{'data-hook':\"see-all-reviews-link-foot\"}):\n",
    "        links.append(i['href'])"
   ]
  },
  {
   "cell_type": "code",
   "execution_count": 11,
   "metadata": {
    "scrolled": true
   },
   "outputs": [
    {
     "name": "stdout",
     "output_type": "stream",
     "text": [
      "Finished: 256 links found\n"
     ]
    }
   ],
   "source": [
    "links = list(set(links))\n",
    "print(f\"Finished: {len(links)} links found\")\n",
    "# The number of link and the number of ASIN can be different, because there are many products which have no review."
   ]
  },
  {
   "cell_type": "code",
   "execution_count": 6,
   "metadata": {
    "scrolled": true
   },
   "outputs": [
    {
     "ename": "NameError",
     "evalue": "name 'links' is not defined",
     "output_type": "error",
     "traceback": [
      "\u001b[0;31m---------------------------------------------------------------------------\u001b[0m",
      "\u001b[0;31mNameError\u001b[0m                                 Traceback (most recent call last)",
      "\u001b[0;32m<ipython-input-6-f06ff6a71367>\u001b[0m in \u001b[0;36m<module>\u001b[0;34m\u001b[0m\n\u001b[0;32m----> 1\u001b[0;31m \u001b[0mlen\u001b[0m\u001b[0;34m(\u001b[0m\u001b[0mlinks\u001b[0m\u001b[0;34m)\u001b[0m\u001b[0;34m\u001b[0m\u001b[0;34m\u001b[0m\u001b[0m\n\u001b[0m",
      "\u001b[0;31mNameError\u001b[0m: name 'links' is not defined"
     ]
    }
   ],
   "source": [
    "len(links)"
   ]
  },
  {
   "cell_type": "code",
   "execution_count": 40,
   "metadata": {},
   "outputs": [
    {
     "name": "stdout",
     "output_type": "stream",
     "text": [
      "Start to search reviews\n"
     ]
    }
   ],
   "source": [
    "\n",
    "print(\"Start to search reviews\")\n",
    "# urls=[]\n",
    "# titles = []\n",
    "search_query_list = []\n",
    "reviews=[]\n",
    "ratings=[]\n",
    "# dates=[]\n",
    "\n"
   ]
  },
  {
   "cell_type": "code",
   "execution_count": 5,
   "metadata": {
    "scrolled": true
   },
   "outputs": [
    {
     "name": "stdout",
     "output_type": "stream",
     "text": [
      "Start to search reviews\n"
     ]
    },
    {
     "ename": "NameError",
     "evalue": "name 'links' is not defined",
     "output_type": "error",
     "traceback": [
      "\u001b[0;31m---------------------------------------------------------------------------\u001b[0m",
      "\u001b[0;31mNameError\u001b[0m                                 Traceback (most recent call last)",
      "\u001b[0;32m<ipython-input-5-a19b325bb430>\u001b[0m in \u001b[0;36m<module>\u001b[0;34m\u001b[0m\n\u001b[1;32m      2\u001b[0m \u001b[0;34m\u001b[0m\u001b[0m\n\u001b[1;32m      3\u001b[0m \u001b[0;34m\u001b[0m\u001b[0m\n\u001b[0;32m----> 4\u001b[0;31m \u001b[0;32mfor\u001b[0m \u001b[0mj\u001b[0m \u001b[0;32min\u001b[0m \u001b[0mrange\u001b[0m\u001b[0;34m(\u001b[0m\u001b[0;36m0\u001b[0m\u001b[0;34m,\u001b[0m \u001b[0mlen\u001b[0m\u001b[0;34m(\u001b[0m\u001b[0mlinks\u001b[0m\u001b[0;34m)\u001b[0m\u001b[0;34m)\u001b[0m\u001b[0;34m:\u001b[0m\u001b[0;34m\u001b[0m\u001b[0;34m\u001b[0m\u001b[0m\n\u001b[0m\u001b[1;32m      5\u001b[0m         \u001b[0mtarget\u001b[0m \u001b[0;34m=\u001b[0m \u001b[0mlinks\u001b[0m\u001b[0;34m[\u001b[0m\u001b[0mj\u001b[0m\u001b[0;34m]\u001b[0m\u001b[0;34m\u001b[0m\u001b[0;34m\u001b[0m\u001b[0m\n\u001b[1;32m      6\u001b[0m         \u001b[0mprint\u001b[0m\u001b[0;34m(\u001b[0m\u001b[0;34mf\"Searching reviews: {j}/{len(links)}, target is {target}\"\u001b[0m\u001b[0;34m)\u001b[0m\u001b[0;34m\u001b[0m\u001b[0;34m\u001b[0m\u001b[0m\n",
      "\u001b[0;31mNameError\u001b[0m: name 'links' is not defined"
     ]
    }
   ],
   "source": [
    "\n",
    "print(\"Start to search reviews\")\n",
    "\n",
    "\n",
    "for j in range(0, len(links)):\n",
    "        target = links[j]\n",
    "        print(f\"Searching reviews: {j}/{len(links)}, target is {target}\")\n",
    "        for k in range(1, 50000):\n",
    "            html = search_reviews(f\"{target}&pageNumber={k}\")\n",
    "            soup = BeautifulSoup(html, 'html5lib')\n",
    "            if soup.find(\n",
    "                'div',\n",
    "                {\"class\" : \"a-section a-spacing-top-large a-text-center no-reviews-section\"}\n",
    "            ):\n",
    "                print(f'Page {k}: No more reviews, step to next link')\n",
    "                break\n",
    "            else:\n",
    "                items = soup.select('span[data-hook=\"review-body\"] > span')\n",
    "                ratings_in_page = items = soup.select('span[data-hook=\"review-star-rating\"] > span')\n",
    "                prev_reviews_cnt = len(reviews)\n",
    "                for i in items:\n",
    "                    if i.text == '':\n",
    "                        # Ignore blank elements\n",
    "                        continue\n",
    "                    else:\n",
    "                        reviews.append(i.text)\n",
    "                        search_query_list.append(SEARCH_QUERY)\n",
    "                for k in ratings_in_page:\n",
    "                    if k.text == '':\n",
    "                        # Ignore blank elements\n",
    "                        continue\n",
    "                    else:\n",
    "                        ratings.append(k.text)\n",
    "                        \n",
    "                print(f\"Page {k}: {len(reviews) - prev_reviews_cnt} reviews found\")\n",
    "\n",
    "print(f\"Finished: {len(reviews)} reviews found\")\n"
   ]
  },
  {
   "cell_type": "code",
   "execution_count": 49,
   "metadata": {},
   "outputs": [
    {
     "data": {
      "text/plain": [
       "29672"
      ]
     },
     "execution_count": 49,
     "metadata": {},
     "output_type": "execute_result"
    }
   ],
   "source": [
    "len(reviews)"
   ]
  },
  {
   "cell_type": "code",
   "execution_count": 56,
   "metadata": {},
   "outputs": [],
   "source": [
    "reviews_copy=reviews"
   ]
  },
  {
   "cell_type": "code",
   "execution_count": 57,
   "metadata": {},
   "outputs": [
    {
     "data": {
      "text/plain": [
       "60848"
      ]
     },
     "execution_count": 57,
     "metadata": {},
     "output_type": "execute_result"
    }
   ],
   "source": [
    "len(reviews_copy)"
   ]
  },
  {
   "cell_type": "code",
   "execution_count": null,
   "metadata": {},
   "outputs": [],
   "source": [
    "print(\"Start to generate report\")\n",
    "# rev={'dates':dates, 'titles':titles, 'ratings':ratings, 'reviews':reviews, 'url':urls} #converting the reviews list into a dictionary\n",
    "\n",
    "rev={'search_query':search_query_list, 'reviews' :reviews} #converting the reviews list into a dictionary\n",
    "review_data=pd.DataFrame.from_dict(rev) #converting this dictionary into a dataframe\n",
    "\n",
    "df = review_data.replace('\\n','', regex=True)\n",
    "\n",
    "writer = pd.ExcelWriter(SEARCH_QUERY+'_review.xlsx')\n",
    "df.to_excel(writer, 'Sheet1', index=False)\n",
    "writer.save()\n",
    "print(\"Success\")"
   ]
  },
  {
   "cell_type": "code",
   "execution_count": null,
   "metadata": {},
   "outputs": [],
   "source": []
  }
 ],
 "metadata": {
  "kernelspec": {
   "display_name": "Python 3",
   "language": "python",
   "name": "python3"
  },
  "language_info": {
   "codemirror_mode": {
    "name": "ipython",
    "version": 3
   },
   "file_extension": ".py",
   "mimetype": "text/x-python",
   "name": "python",
   "nbconvert_exporter": "python",
   "pygments_lexer": "ipython3",
   "version": "3.6.10"
  }
 },
 "nbformat": 4,
 "nbformat_minor": 2
}
