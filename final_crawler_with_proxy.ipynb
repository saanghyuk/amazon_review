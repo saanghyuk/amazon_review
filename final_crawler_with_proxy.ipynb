{
 "cells": [
  {
   "cell_type": "code",
   "execution_count": 2,
   "metadata": {},
   "outputs": [],
   "source": [
    "import requests\n",
    "from bs4 import BeautifulSoup\n",
    "import pandas as pd\n",
    "from urllib.parse import quote"
   ]
  },
  {
   "cell_type": "code",
   "execution_count": 3,
   "metadata": {},
   "outputs": [],
   "source": [
    "\n",
    "# Input Search Query\n",
    "SEARCH_QUERY = 'tv'"
   ]
  },
  {
   "cell_type": "code",
   "execution_count": 4,
   "metadata": {},
   "outputs": [],
   "source": [
    "PROXY_CRAWL_TOKEN = 'JNsGFIUa5_amNHUfiLkHPA'\n",
    "# PROXY_CRAWL_TOKEN = 'K-9nDJsiR1tb0vbXVAaSOQ'"
   ]
  },
  {
   "cell_type": "code",
   "execution_count": 5,
   "metadata": {},
   "outputs": [],
   "source": [
    "\n",
    "def get_proxy(url):\n",
    "    quoted_url = quote(url)\n",
    "    res = requests.get(f'https://api.proxycrawl.com/?token={PROXY_CRAWL_TOKEN}&url={quoted_url}')\n",
    "    res.raise_for_status() # Raise error if it fails\n",
    "    return res.content\n"
   ]
  },
  {
   "cell_type": "code",
   "execution_count": null,
   "metadata": {},
   "outputs": [],
   "source": []
  },
  {
   "cell_type": "code",
   "execution_count": 43,
   "metadata": {},
   "outputs": [],
   "source": [
    "\n",
    "#### A function to get the content of the page of required query\n",
    "def search_in_amazon(search_query):\n",
    "    url = f\"https://www.amazon.com/s?k={search_query}\"\n",
    "    return get_proxy(url)\n",
    "\n",
    "#### A function to get the contents of individual product pages using 'data-asin' number (unique identification number)\n",
    "def search_asin(asin):\n",
    "    url = f\"https://www.amazon.com/dp/{asin}\"\n",
    "    return get_proxy(url)\n",
    "\n",
    "#### A function to pass on the link of 'see all reviews' and extract the content\n",
    "def search_reviews(review_link):\n",
    "    url = f\"https://www.amazon.com{review_link}\"\n",
    "    return get_proxy(url)\n"
   ]
  },
  {
   "cell_type": "code",
   "execution_count": null,
   "metadata": {},
   "outputs": [],
   "source": []
  },
  {
   "cell_type": "code",
   "execution_count": null,
   "metadata": {},
   "outputs": [],
   "source": []
  },
  {
   "cell_type": "markdown",
   "metadata": {},
   "source": [
    "### Product Name extraction"
   ]
  },
  {
   "cell_type": "code",
   "execution_count": 44,
   "metadata": {
    "scrolled": true
   },
   "outputs": [
    {
     "name": "stdout",
     "output_type": "stream",
     "text": [
      "Start to extract product names\n",
      "Iteration 1/21\n",
      "Iteration 2/21\n",
      "Iteration 3/21\n",
      "Iteration 4/21\n",
      "Iteration 5/21\n",
      "Iteration 6/21\n",
      "Iteration 7/21\n",
      "Iteration 8/21\n",
      "Iteration 9/21\n",
      "Iteration 10/21\n",
      "Iteration 11/21\n",
      "Iteration 12/21\n",
      "Iteration 13/21\n",
      "Iteration 14/21\n",
      "Iteration 15/21\n",
      "Iteration 16/21\n",
      "Iteration 17/21\n",
      "Iteration 18/21\n",
      "Iteration 19/21\n",
      "Iteration 20/21\n",
      "Finished: 306 product names found\n"
     ]
    }
   ],
   "source": [
    "print(\"Start to extract product names\")\n",
    "\n",
    "product_names = []\n",
    "data_asin = []\n",
    "LAST_PAGE = 21\n",
    "for i in range(1,LAST_PAGE):\n",
    "    print(f\"Iteration {i}/{LAST_PAGE}\")\n",
    "    html = search_in_amazon(SEARCH_QUERY+'&page='+str(i))\n",
    "    soup = BeautifulSoup(html, 'html5lib')\n",
    "    items = soup.findAll(\"span\",{'class':'a-size-medium a-color-base a-text-normal'})\n",
    "    if len(items) == 0:\n",
    "        print(f\"Warning: No product name found in this page\")\n",
    "    for i in items:\n",
    "        product_names.append(i.text) # adding the product names to the list\n",
    "\n",
    "    for i in soup.findAll(\"div\", {\"class\":\"s-result-item\"}):\n",
    "        if i['data-asin']:\n",
    "            data_asin.append(i['data-asin'])\n",
    "\n",
    "print(f\"Finished: {len(product_names)} product names found\")"
   ]
  },
  {
   "cell_type": "code",
   "execution_count": 52,
   "metadata": {
    "scrolled": true
   },
   "outputs": [
    {
     "data": {
      "text/plain": [
       "306"
      ]
     },
     "execution_count": 52,
     "metadata": {},
     "output_type": "execute_result"
    }
   ],
   "source": [
    "len(product_names)"
   ]
  },
  {
   "cell_type": "code",
   "execution_count": null,
   "metadata": {},
   "outputs": [],
   "source": []
  },
  {
   "cell_type": "markdown",
   "metadata": {},
   "source": [
    "When scrawling the all pages of product list in specific search query, I could discover that there are same products in the list. <br>\n",
    "Therefore, I needed to remove the same product in the list of ASIN."
   ]
  },
  {
   "cell_type": "code",
   "execution_count": 53,
   "metadata": {
    "scrolled": false
   },
   "outputs": [
    {
     "name": "stdout",
     "output_type": "stream",
     "text": [
      "Start to search asin\n"
     ]
    }
   ],
   "source": [
    "print(\"Start to search asin\")"
   ]
  },
  {
   "cell_type": "code",
   "execution_count": 58,
   "metadata": {},
   "outputs": [],
   "source": [
    "links = []"
   ]
  },
  {
   "cell_type": "code",
   "execution_count": null,
   "metadata": {},
   "outputs": [
    {
     "name": "stdout",
     "output_type": "stream",
     "text": [
      "Searching asin 0/273\n",
      "Searching asin 1/273\n",
      "Searching asin 2/273\n",
      "Searching asin 3/273\n",
      "Searching asin 4/273\n",
      "Searching asin 5/273\n",
      "Searching asin 6/273\n",
      "Searching asin 7/273\n",
      "Searching asin 8/273\n",
      "Searching asin 9/273\n",
      "Searching asin 10/273\n",
      "Searching asin 11/273\n",
      "Searching asin 12/273\n",
      "Searching asin 13/273\n",
      "Searching asin 14/273\n",
      "Searching asin 15/273\n",
      "Searching asin 16/273\n",
      "Searching asin 17/273\n",
      "Searching asin 18/273\n",
      "Searching asin 19/273\n",
      "Searching asin 20/273\n",
      "Searching asin 21/273\n",
      "Searching asin 22/273\n",
      "Searching asin 23/273\n",
      "Searching asin 24/273\n",
      "Searching asin 25/273\n",
      "Searching asin 26/273\n",
      "Searching asin 27/273\n",
      "Searching asin 28/273\n",
      "Searching asin 29/273\n",
      "Searching asin 30/273\n",
      "Searching asin 31/273\n",
      "Searching asin 32/273\n",
      "Searching asin 33/273\n",
      "Searching asin 34/273\n",
      "Searching asin 35/273\n",
      "Searching asin 36/273\n",
      "Searching asin 37/273\n",
      "Searching asin 38/273\n"
     ]
    }
   ],
   "source": [
    "\n",
    "data_asin = list(set(data_asin)) # Leave unique values only\n",
    "\n",
    "for i in range(len(data_asin)):\n",
    "    print(f\"Searching asin {i}/{len(data_asin)}\")\n",
    "    html = search_asin(data_asin[i])\n",
    "    soup = BeautifulSoup(html, 'html5lib')\n",
    "    for i in soup.findAll(\"a\",{'data-hook':\"see-all-reviews-link-foot\"}):\n",
    "        links.append(i['href'])"
   ]
  },
  {
   "cell_type": "code",
   "execution_count": 57,
   "metadata": {},
   "outputs": [
    {
     "data": {
      "text/plain": [
       "0"
      ]
     },
     "execution_count": 57,
     "metadata": {},
     "output_type": "execute_result"
    }
   ],
   "source": [
    "len(links)"
   ]
  },
  {
   "cell_type": "code",
   "execution_count": 11,
   "metadata": {
    "scrolled": false
   },
   "outputs": [
    {
     "name": "stdout",
     "output_type": "stream",
     "text": [
      "Finished: 1 links found\n"
     ]
    }
   ],
   "source": [
    "links = list(set(links))\n",
    "print(f\"Finished: {len(links)} links found\")\n",
    "# The number of link and the number of ASIN can be different, because there are many products which have no review."
   ]
  },
  {
   "cell_type": "code",
   "execution_count": 51,
   "metadata": {},
   "outputs": [
    {
     "name": "stdout",
     "output_type": "stream",
     "text": [
      "Start to search reviews\n"
     ]
    }
   ],
   "source": [
    "\n",
    "print(\"Start to search reviews\")\n",
    "# urls=[]\n",
    "# titles = []\n",
    "search_query_list = []\n",
    "reviews=[]\n",
    "ratings=[]\n",
    "# dates=[]\n",
    "\n"
   ]
  },
  {
   "cell_type": "code",
   "execution_count": 50,
   "metadata": {
    "scrolled": false
   },
   "outputs": [
    {
     "name": "stdout",
     "output_type": "stream",
     "text": [
      "Start to search reviews\n",
      "Searching reviews: 0/1, target is /VIZIO-Class-49-5-Diag-Smart/product-reviews/B07KJB92L9?reviewerType=all_reviews\n",
      "Page 1: 10 ratings found\n",
      "Page 1: 10 reviews found\n",
      "current number of ratings : 10\n",
      "current number of reviews : 40\n",
      "something error\n"
     ]
    },
    {
     "ename": "NameError",
     "evalue": "name 'sys' is not defined",
     "output_type": "error",
     "traceback": [
      "\u001b[0;31m---------------------------------------------------------------------------\u001b[0m",
      "\u001b[0;31mNameError\u001b[0m                                 Traceback (most recent call last)",
      "\u001b[0;32m<ipython-input-50-e565ab2a4e3f>\u001b[0m in \u001b[0;36m<module>\u001b[0;34m\u001b[0m\n\u001b[1;32m     42\u001b[0m                 \u001b[0;32mif\u001b[0m \u001b[0mlen\u001b[0m\u001b[0;34m(\u001b[0m\u001b[0mratings\u001b[0m\u001b[0;34m)\u001b[0m \u001b[0;34m!=\u001b[0m \u001b[0mlen\u001b[0m\u001b[0;34m(\u001b[0m\u001b[0mreviews\u001b[0m\u001b[0;34m)\u001b[0m\u001b[0;34m:\u001b[0m\u001b[0;34m\u001b[0m\u001b[0;34m\u001b[0m\u001b[0m\n\u001b[1;32m     43\u001b[0m                     \u001b[0mprint\u001b[0m\u001b[0;34m(\u001b[0m\u001b[0;34m\"something error\"\u001b[0m\u001b[0;34m)\u001b[0m\u001b[0;34m\u001b[0m\u001b[0;34m\u001b[0m\u001b[0m\n\u001b[0;32m---> 44\u001b[0;31m                     \u001b[0msys\u001b[0m\u001b[0;34m.\u001b[0m\u001b[0mexit\u001b[0m\u001b[0;34m(\u001b[0m\u001b[0;36m1\u001b[0m\u001b[0;34m)\u001b[0m\u001b[0;34m\u001b[0m\u001b[0;34m\u001b[0m\u001b[0m\n\u001b[0m\u001b[1;32m     45\u001b[0m                 \u001b[0mprint\u001b[0m\u001b[0;34m(\u001b[0m\u001b[0;34m\"---------------------------\"\u001b[0m\u001b[0;34m)\u001b[0m\u001b[0;34m\u001b[0m\u001b[0;34m\u001b[0m\u001b[0m\n\u001b[1;32m     46\u001b[0m \u001b[0;34m\u001b[0m\u001b[0m\n",
      "\u001b[0;31mNameError\u001b[0m: name 'sys' is not defined"
     ]
    }
   ],
   "source": [
    "\n",
    "print(\"Start to search reviews\")\n",
    "\n",
    "\n",
    "for j in range(0, len(links)):\n",
    "\n",
    "        target = links[j]\n",
    "        print(f\"Searching reviews: {j}/{len(links)}, target is {target}\")\n",
    "        for k in range(1, 50000):\n",
    "            html = search_reviews(f\"{target}&pageNumber={k}\")\n",
    "            soup = BeautifulSoup(html, 'html5lib')\n",
    "            if soup.find(\n",
    "                'div',\n",
    "                {\"class\" : \"a-section a-spacing-top-large a-text-center no-reviews-section\"}\n",
    "            ):\n",
    "                print(f'Page {k}: No more reviews, step to next link')\n",
    "                break\n",
    "            else:\n",
    "#                 items = soup.select('span[data-hook=\"review-body\"] > span')\n",
    "                items = soup.select('div[data-hook=\"review\"]')\n",
    "#                 reviews_in_page = soup.select()\n",
    "#                 ratings_in_page = soup.select('div.reviews-content span.a-icon-alt')\n",
    "        \n",
    "                prev_reviews_cnt = len(reviews)\n",
    "                prev_ratings_cnt = len(ratings)\n",
    "                \n",
    "                for i in items:\n",
    "                    ratings_in_page = i.find(\"i\", {'data-hook':'review-star-rating'}).text\n",
    "                    reviews_in_page = i.find('span', {'data-hook': 'review-body'}).text\n",
    "                    if reviews_in_page == '':\n",
    "                        # Ignore blank elements\n",
    "                        continue\n",
    "                    else:\n",
    "                        ratings.append(ratings_in_page)\n",
    "                        reviews.append(reviews_in_page)\n",
    "                        search_query_list.append(SEARCH_QUERY)\n",
    "                        \n",
    "                \n",
    "                print(f\"Page {k}: {len(ratings) - prev_ratings_cnt} ratings found\")\n",
    "                print(f\"Page {k}: {len(reviews) - prev_reviews_cnt} reviews found\")\n",
    "                print(f\"current number of ratings : {len(ratings)}\")\n",
    "                print(f\"current number of reviews : {len(reviews)}\")\n",
    "                if len(ratings) != len(reviews):\n",
    "                    print(\"something error\")\n",
    "                    sys.exit(1)\n",
    "                print(\"---------------------------\")\n",
    "\n",
    "                \n",
    "                \n",
    "print(f\"Finished: {len(reviews)} reviews found\")\n"
   ]
  },
  {
   "cell_type": "code",
   "execution_count": 40,
   "metadata": {
    "scrolled": true
   },
   "outputs": [
    {
     "name": "stdout",
     "output_type": "stream",
     "text": [
      "[\"\\n\\n\\n\\n\\n\\n\\n\\n  \\n  \\n    Bought this from Costco after trying three other sets that didn't have great pictures. Got this home and set up in under an hour, The settings are pretty extensive and allows for a lot of tweeking. Normal reception (from Comcast cable) is extremely limited by 1080P and picture is not as sharp as it could be. Since we don't subscribe to streaming services that provide 4K, can't really comment on extended viewing of 4K content. Vizio does have a short 4K video that can be downloaded to a thumb drive and plugged into the USB port.  The picture from the video is outstanding. It is crisp, clear and sharp. The sound is a little low, but a sound bar alleviates this issue. After trying LG, Hisense and another Vizio (developed a vertical line after 4 days), we went with this Vizio model and are pretty pleased so far. Plus, Costco gives you and extra year of warranty at no cost. I would recommend this TV.\\n  \\n\", '\\n\\n\\n\\n\\n\\n\\n\\n  \\n  \\n    I purchased a unit from Best Buy a few days ago and had to return it because there was a large amount of backlight bleed. Since this is a brand new model (V505-G9) I was hoping it was just a bad panel...and I was correct, as the replacement looks excellent. For $299, this TV is fantastic. Dolby Vision from the Apple TV 4k looks great (even better than HDR10 from my Roku Ultra) and the TV is very responsive. The blacks are very deep, the whites are very white, the colors absolutely pop (used rtings.com calibration settings for the 2018 E/D series), and the picture in 4K is crystal clear (1080p looks good too). Overall a great unit for the price. Could you get a better picture from a P-Series? Probably, but this is less than half the cost and that is hard to beat.\\n  \\n', '\\n\\n\\n\\n\\n\\n\\n\\n  \\n  \\n    Bought this at Walmart for $299.By far the best tv I’ve ever owned.When watching shows or movies in HD and HDR the picture looks like real life, it’s amazing. You will see details that you’ve neverseen before when using a non 4K tv, so crisp and clean.The Tv comes with built in live streaming tv for free, Pluto tv, and also Xumo, and it’s a great addition! Pluto has a ton of non premium channels that anyone can enjoy( no fox, cbs, nbc, amc and stuff). I personally love River Monsters 24/7 Channel, Gordon Ramsey Channel, Forensic Files Channel. There’s a ton of channels. Entertainment, sports, news, cooking, gaming, animals, anime, music, movies. Something for everyone.Xumo has more premium channels, History Channel, NBC news, Today News, CBSN, Fox Sports, PGA tour.Between the two apps you’re getting well over 300 live channels.Also since it’s a smart tv there’s plenty of apps built in like Netflix, Hulu, Prime, YouTube, iHeartRadio, Vudu, etc. Also built in is Chromecast so you can watch any other apps installed on your phone and stream them to the TV. This feature worked flawlessly the few times I used it.The TV also supports Alexa/google home use. I just received a dot for Xmas and it is very nice giving out demands and having the tv respond! You can have the tv turn on/off, volume up/down, open apps, or go to specific channels.-Note, I’ve noticed the built in streaming apps don’t stream in high resolution for some reason, they usually stream in 720p and 480p. I bought the 4K fire stick and the same show would stream in 1080p on the stick but only 720p in the built in app. I’ve looked through the settings and can’t find anything.Only negative to the tv would be the sound. It’s pretty bad. Just low and lifeless. It says it has built in surround sound but even when that’s activated it sounds bad. I have a sound bar so it’s not much of an issue for me, but I’d definitely recommend anyone who buys this tv to get one.Overall it’s just an incredible TV and well worth the price. Picture is great, and the addition of live TV is very nice for people like me who do not have cable.\\n  \\n', '\\n\\n\\n\\n\\n\\n\\n\\n  \\n  \\n    When viewing the screen from 45 degrees or more, the picture seems to be washed out and loses color.  But other than that, I love it so far.\\n  \\n', \"\\n\\n\\n\\n\\n\\n\\n\\n  \\n  \\n    Just buy it already.It's a great value good tech fast free delivery. What else you need?. Nothn. Watch for delivery ..  TV got delivered to the wrong address.\\n  \\n\", '\\n\\n\\n\\n\\n\\n\\n\\n  \\n  \\n    Very good product.\\n  \\n', '\\n\\n\\n\\n\\n\\n\\n\\n  \\n  \\n    For gaming. Its working great very pleased.  Thank you Amazon.\\n  \\n', '\\n\\n\\n\\n\\n\\n\\n\\n  \\n  \\n    Nice size just need to sit and read the tv in order to use it\\n  \\n', '\\n\\n\\n\\n\\n\\n\\n\\n  \\n  \\n    This smart TV has a great picture! Wonderful for watching everything from local satellite channels to Amazon Prime videos. Use it a lot to watch Youtube videos.\\n  \\n', \"\\n\\n\\n\\n\\n\\n\\n\\n  \\n  \\n    i went to settings to adjust  display no more wash out ,it wasn't washed out very bad. picture is great. so many adjustment you can use to fit the way you want it to look. i got the sound bar WHAT A GREAT DEAL ,HDMI,SMART AND SOME.i give this TV a 5 star worth the price and got it in three day's No damage. DAM GOOD DEAL I would recommend it.\\n  \\n\"]\n",
      "['4.0 out of 5 stars', '5.0 out of 5 stars', '5.0 out of 5 stars', '4.0 out of 5 stars', '4.0 out of 5 stars', '5.0 out of 5 stars', '5.0 out of 5 stars', '5.0 out of 5 stars', '5.0 out of 5 stars', '5.0 out of 5 stars']\n"
     ]
    }
   ],
   "source": [
    "print(reviews)\n",
    "print(ratings)"
   ]
  },
  {
   "cell_type": "code",
   "execution_count": 42,
   "metadata": {},
   "outputs": [
    {
     "name": "stdout",
     "output_type": "stream",
     "text": [
      "10\n",
      "10\n"
     ]
    }
   ],
   "source": [
    "print(len(reviews))\n",
    "print(len(ratings))"
   ]
  },
  {
   "cell_type": "code",
   "execution_count": 202,
   "metadata": {},
   "outputs": [
    {
     "data": {
      "text/plain": [
       "['This is my second Vizio TV I had bought. They have great picture and very quality tv ! Customer service is great in case you ever have to use it!',\n",
       " \"Bought the renewed one to save a bit of money, turned out to be packaged and looked brand new. Couldn't tell the differenceArrived in good condition, great TV and vizio makes a good product. Would buy again\",\n",
       " 'Overall the TV has worked to spec, I will most likely be ordering another one this way.',\n",
       " 'I can’t say enough about this TV. All the claims are true. Wonderful picture, easy to use .',\n",
       " 'When I received the television I tried attaching the legs for the tv to the tv; the screws that came with the product were too short and were not the correct screws to attach the legs to the television.',\n",
       " \"I purchased a television from this merchant and it stopped working right after the Amazon 90 day warranty expired. They refused to replace or repair it which means I actually rented this item. Don't be conned as I was. Stay away from items being sold by Hyper Microsystems. If I could give them less that 1 star I would!!!\",\n",
       " 'It’s the right tv for me, does what I was looking for',\n",
       " 'The TV works great! Setup was very easy. Works great with WiFi and cable',\n",
       " 'This new TV works so much better than the old one!',\n",
       " 'It had all the qualities for the right price.',\n",
       " 'Wooww esta de lujo. Llego bien protegida e intacta. La imagen esta muy bonita y nítida.El sonido no es tan fuerte pero vale la pena.Por el precio me definitivamente es muy buena tv.',\n",
       " '',\n",
       " 'Screen was cracked!',\n",
       " 'Could not be happier with this purchase.',\n",
       " 'So far I like everything, picture, sound and how flat & light weight TV is.']"
      ]
     },
     "execution_count": 202,
     "metadata": {},
     "output_type": "execute_result"
    }
   ],
   "source": [
    "reviews[-15:]"
   ]
  },
  {
   "cell_type": "code",
   "execution_count": null,
   "metadata": {},
   "outputs": [],
   "source": []
  },
  {
   "cell_type": "code",
   "execution_count": 191,
   "metadata": {
    "scrolled": false
   },
   "outputs": [
    {
     "name": "stdout",
     "output_type": "stream",
     "text": [
      "[\"Horrible sound! The voices sounded like they had a buzz and couldn't understand the words.\", 'no writing review.', 'Great tv. Slim and works great. Only down side is a slightly long boot time.', 'Nice picture', 'exactly what I wanted. I have had the same TV for 7 years and is still in use. Good for RCA', 'Picture was good but speakers had a lot of static. Returned it', 'Great  TV', 'This RCA gives a cool, crisp picture that really pops. And the 32\" screen is a very good size - not obstrusive, and not a small stand-in for the real thing either. True enough, the sound is nearly a felony; especially at a higher volumn, and the convenient disk player is not blu-ray, but all together this unit offers quite a lot and we are quite satisfied.', \"Very LOW quality TV, sound is of horrible quality sounding like a $5 speaker. Picture is blurry and color is horrible, worse overall than any tube TV I've seen. I made sure everything was connected right, and all settings were correct, just a very low quality product. Do not recommend.\", 'PC monitor function does not work. TV and DVD functions work fine.']\n",
      "['1.0 out of 5 stars', '5.0 out of 5 stars', '5.0 out of 5 stars', '4.0 out of 5 stars', '5.0 out of 5 stars', '2.0 out of 5 stars', '5.0 out of 5 stars', '4.0 out of 5 stars', '1.0 out of 5 stars', '1.0 out of 5 stars']\n"
     ]
    }
   ],
   "source": [
    "print(reviews[-10:])\n",
    "print(ratings[-10:])"
   ]
  },
  {
   "cell_type": "code",
   "execution_count": 188,
   "metadata": {},
   "outputs": [
    {
     "data": {
      "text/plain": [
       "['Exactly a second described. Packaged well',\n",
       " 'My dad has this TV. It is a 32 inch. It has a built in DVD player as well.',\n",
       " 'TV stopped working properly 2 months after I bought it.',\n",
       " \"Horrible sound! The voices sounded like they had a buzz and couldn't understand the words.\",\n",
       " 'no writing review.',\n",
       " 'Great tv. Slim and works great. Only down side is a slightly long boot time.',\n",
       " 'Nice picture',\n",
       " 'exactly what I wanted. I have had the same TV for 7 years and is still in use. Good for RCA']"
      ]
     },
     "execution_count": 188,
     "metadata": {},
     "output_type": "execute_result"
    }
   ],
   "source": [
    "reviews[-8:]"
   ]
  },
  {
   "cell_type": "code",
   "execution_count": 163,
   "metadata": {},
   "outputs": [
    {
     "data": {
      "text/plain": [
       "\"Horrible sound! The voices sounded like they had a buzz and couldn't understand the words.\""
      ]
     },
     "execution_count": 163,
     "metadata": {},
     "output_type": "execute_result"
    }
   ],
   "source": [
    "reviews[-7]"
   ]
  },
  {
   "cell_type": "code",
   "execution_count": 165,
   "metadata": {},
   "outputs": [],
   "source": [
    "reviews[-6]='no writing review.'"
   ]
  },
  {
   "cell_type": "code",
   "execution_count": 187,
   "metadata": {
    "scrolled": true
   },
   "outputs": [
    {
     "name": "stdout",
     "output_type": "stream",
     "text": [
      "['From what I have seen so far, I like it.  I am not usually critical of things so I feel the picture quality is good. I have not had it up long.  It is not a primary tv, so it is not watched except on weekends', 'Nothing', 'Easy set up. Great picture. Perfect size. Would purchase again.', 'Exceeded Expectations!', 'Suitable for small room', 'Exactly a second described. Packaged well', 'My dad has this TV. It is a 32 inch. It has a built in DVD player as well.', 'TV stopped working properly 2 months after I bought it.', \"Horrible sound! The voices sounded like they had a buzz and couldn't understand the words.\", 'no writing review.', 'Great tv. Slim and works great. Only down side is a slightly long boot time.', 'Nice picture', 'exactly what I wanted. I have had the same TV for 7 years and is still in use. Good for RCA']\n",
      "['3.0 out of 5 stars', '5.0 out of 5 stars', '5.0 out of 5 stars', '5.0 out of 5 stars', '5.0 out of 5 stars', '5.0 out of 5 stars', '4.0 out of 5 stars', '1.0 out of 5 stars', '1.0 out of 5 stars', '5.0 out of 5 stars', '5.0 out of 5 stars', '4.0 out of 5 stars', '5.0 out of 5 stars']\n"
     ]
    }
   ],
   "source": [
    "print(reviews[-13:])\n",
    "print(ratings[-13:])"
   ]
  },
  {
   "cell_type": "code",
   "execution_count": 111,
   "metadata": {},
   "outputs": [
    {
     "data": {
      "text/plain": [
       "['5.0 out of 5 stars',\n",
       " '5.0 out of 5 stars',\n",
       " '1.0 out of 5 stars',\n",
       " '2.0 out of 5 stars',\n",
       " '1.0 out of 5 stars',\n",
       " '1.0 out of 5 stars',\n",
       " '5.0 out of 5 stars',\n",
       " '5.0 out of 5 stars',\n",
       " '1.0 out of 5 stars',\n",
       " '1.0 out of 5 stars',\n",
       " '1.0 out of 5 stars',\n",
       " '5.0 out of 5 stars',\n",
       " '1.0 out of 5 stars',\n",
       " '5.0 out of 5 stars',\n",
       " '5.0 out of 5 stars',\n",
       " '5.0 out of 5 stars',\n",
       " '5.0 out of 5 stars',\n",
       " '5.0 out of 5 stars',\n",
       " '5.0 out of 5 stars',\n",
       " '5.0 out of 5 stars',\n",
       " '2.0 out of 5 stars',\n",
       " '1.0 out of 5 stars',\n",
       " '5.0 out of 5 stars',\n",
       " '4.0 out of 5 stars',\n",
       " '5.0 out of 5 stars',\n",
       " '5.0 out of 5 stars',\n",
       " '5.0 out of 5 stars',\n",
       " '1.0 out of 5 stars',\n",
       " '5.0 out of 5 stars',\n",
       " '5.0 out of 5 stars',\n",
       " '5.0 out of 5 stars',\n",
       " '5.0 out of 5 stars',\n",
       " '5.0 out of 5 stars',\n",
       " '3.0 out of 5 stars',\n",
       " '1.0 out of 5 stars',\n",
       " '1.0 out of 5 stars',\n",
       " '4.0 out of 5 stars',\n",
       " '1.0 out of 5 stars',\n",
       " '5.0 out of 5 stars',\n",
       " '2.0 out of 5 stars',\n",
       " '5.0 out of 5 stars',\n",
       " '5.0 out of 5 stars',\n",
       " '5.0 out of 5 stars',\n",
       " '5.0 out of 5 stars',\n",
       " '5.0 out of 5 stars',\n",
       " '1.0 out of 5 stars',\n",
       " '5.0 out of 5 stars',\n",
       " '1.0 out of 5 stars',\n",
       " '3.0 out of 5 stars',\n",
       " '1.0 out of 5 stars',\n",
       " '5.0 out of 5 stars',\n",
       " '1.0 out of 5 stars',\n",
       " '1.0 out of 5 stars',\n",
       " '5.0 out of 5 stars',\n",
       " '1.0 out of 5 stars',\n",
       " '5.0 out of 5 stars',\n",
       " '5.0 out of 5 stars',\n",
       " '1.0 out of 5 stars',\n",
       " '5.0 out of 5 stars',\n",
       " '3.0 out of 5 stars',\n",
       " '1.0 out of 5 stars',\n",
       " '5.0 out of 5 stars',\n",
       " '5.0 out of 5 stars',\n",
       " '3.0 out of 5 stars',\n",
       " '2.0 out of 5 stars',\n",
       " '5.0 out of 5 stars',\n",
       " '5.0 out of 5 stars',\n",
       " '5.0 out of 5 stars',\n",
       " '5.0 out of 5 stars',\n",
       " '1.0 out of 5 stars',\n",
       " '1.0 out of 5 stars',\n",
       " '5.0 out of 5 stars',\n",
       " '5.0 out of 5 stars',\n",
       " '5.0 out of 5 stars',\n",
       " '2.0 out of 5 stars',\n",
       " '4.0 out of 5 stars',\n",
       " '4.0 out of 5 stars',\n",
       " '1.0 out of 5 stars',\n",
       " '5.0 out of 5 stars',\n",
       " '5.0 out of 5 stars',\n",
       " '2.0 out of 5 stars',\n",
       " '4.0 out of 5 stars',\n",
       " '5.0 out of 5 stars',\n",
       " '5.0 out of 5 stars',\n",
       " '5.0 out of 5 stars',\n",
       " '4.0 out of 5 stars',\n",
       " '4.0 out of 5 stars',\n",
       " '1.0 out of 5 stars',\n",
       " '5.0 out of 5 stars',\n",
       " '5.0 out of 5 stars',\n",
       " '5.0 out of 5 stars',\n",
       " '5.0 out of 5 stars',\n",
       " '5.0 out of 5 stars',\n",
       " '5.0 out of 5 stars',\n",
       " '5.0 out of 5 stars',\n",
       " '5.0 out of 5 stars',\n",
       " '3.0 out of 5 stars',\n",
       " '5.0 out of 5 stars',\n",
       " '5.0 out of 5 stars',\n",
       " '3.0 out of 5 stars',\n",
       " '5.0 out of 5 stars',\n",
       " '5.0 out of 5 stars',\n",
       " '5.0 out of 5 stars',\n",
       " '4.0 out of 5 stars',\n",
       " '5.0 out of 5 stars',\n",
       " '4.0 out of 5 stars',\n",
       " '5.0 out of 5 stars',\n",
       " '5.0 out of 5 stars',\n",
       " '4.0 out of 5 stars',\n",
       " '5.0 out of 5 stars',\n",
       " '5.0 out of 5 stars',\n",
       " '1.0 out of 5 stars',\n",
       " '5.0 out of 5 stars',\n",
       " '5.0 out of 5 stars',\n",
       " '5.0 out of 5 stars',\n",
       " '4.0 out of 5 stars',\n",
       " '5.0 out of 5 stars',\n",
       " '5.0 out of 5 stars',\n",
       " '5.0 out of 5 stars',\n",
       " '5.0 out of 5 stars',\n",
       " '5.0 out of 5 stars',\n",
       " '5.0 out of 5 stars',\n",
       " '4.0 out of 5 stars',\n",
       " '5.0 out of 5 stars',\n",
       " '1.0 out of 5 stars',\n",
       " '5.0 out of 5 stars',\n",
       " '4.0 out of 5 stars',\n",
       " '5.0 out of 5 stars',\n",
       " '5.0 out of 5 stars',\n",
       " '5.0 out of 5 stars',\n",
       " '5.0 out of 5 stars',\n",
       " '1.0 out of 5 stars',\n",
       " '4.0 out of 5 stars',\n",
       " '5.0 out of 5 stars',\n",
       " '5.0 out of 5 stars',\n",
       " '3.0 out of 5 stars',\n",
       " '5.0 out of 5 stars',\n",
       " '1.0 out of 5 stars',\n",
       " '5.0 out of 5 stars',\n",
       " '4.0 out of 5 stars',\n",
       " '5.0 out of 5 stars']"
      ]
     },
     "execution_count": 111,
     "metadata": {},
     "output_type": "execute_result"
    }
   ],
   "source": [
    "ratings"
   ]
  },
  {
   "cell_type": "code",
   "execution_count": 56,
   "metadata": {},
   "outputs": [],
   "source": [
    "reviews_copy=reviews\n",
    "ratings_copy=ratings"
   ]
  },
  {
   "cell_type": "code",
   "execution_count": 57,
   "metadata": {},
   "outputs": [
    {
     "data": {
      "text/plain": [
       "60848"
      ]
     },
     "execution_count": 57,
     "metadata": {},
     "output_type": "execute_result"
    }
   ],
   "source": [
    "len(reviews_copy)"
   ]
  },
  {
   "cell_type": "code",
   "execution_count": null,
   "metadata": {},
   "outputs": [],
   "source": [
    "print(\"Start to generate report\")\n",
    "# rev={'dates':dates, 'titles':titles, 'ratings':ratings, 'reviews':reviews, 'url':urls} #converting the reviews list into a dictionary\n",
    "\n",
    "rev={'search_query':search_query_list, 'reviews' :reviews} #converting the reviews list into a dictionary\n",
    "review_data=pd.DataFrame.from_dict(rev) #converting this dictionary into a dataframe\n",
    "\n",
    "df = review_data.replace('\\n','', regex=True)\n",
    "\n",
    "writer = pd.ExcelWriter(SEARCH_QUERY+'_review.xlsx')\n",
    "df.to_excel(writer, 'Sheet1', index=False)\n",
    "writer.save()\n",
    "print(\"Success\")"
   ]
  },
  {
   "cell_type": "code",
   "execution_count": null,
   "metadata": {},
   "outputs": [],
   "source": []
  }
 ],
 "metadata": {
  "kernelspec": {
   "display_name": "Python 3",
   "language": "python",
   "name": "python3"
  },
  "language_info": {
   "codemirror_mode": {
    "name": "ipython",
    "version": 3
   },
   "file_extension": ".py",
   "mimetype": "text/x-python",
   "name": "python",
   "nbconvert_exporter": "python",
   "pygments_lexer": "ipython3",
   "version": "3.6.10"
  }
 },
 "nbformat": 4,
 "nbformat_minor": 2
}
