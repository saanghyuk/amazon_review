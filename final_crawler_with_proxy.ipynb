{
 "cells": [
  {
   "cell_type": "code",
   "execution_count": 19,
   "metadata": {},
   "outputs": [],
   "source": [
    "import requests\n",
    "from bs4 import BeautifulSoup\n",
    "import pandas as pd\n",
    "from urllib.parse import quote\n"
   ]
  },
  {
   "cell_type": "code",
   "execution_count": 20,
   "metadata": {},
   "outputs": [],
   "source": [
    "# Input Search Query\n",
    "SEARCH_QUERY = 'tv'"
   ]
  },
  {
   "cell_type": "code",
   "execution_count": 21,
   "metadata": {},
   "outputs": [],
   "source": [
    "PROXY_CRAWL_TOKEN = '8wJqpL2FErGiPGX7QWP6Aw'"
   ]
  },
  {
   "cell_type": "code",
   "execution_count": 22,
   "metadata": {},
   "outputs": [],
   "source": [
    "def get_proxy(url):\n",
    "    quoted_url = quote(url)\n",
    "    res = requests.get(f'https://api.proxycrawl.com/?token={PROXY_CRAWL_TOKEN}&url={quoted_url}')\n",
    "    res.raise_for_status() # Raise error if it fails\n",
    "    return res.content"
   ]
  },
  {
   "cell_type": "code",
   "execution_count": null,
   "metadata": {},
   "outputs": [],
   "source": []
  },
  {
   "cell_type": "code",
   "execution_count": 23,
   "metadata": {},
   "outputs": [],
   "source": [
    "#### A function to get the content of the page of required query\n",
    "def search_in_amazon(search_query):\n",
    "    url = f\"https://www.amazon.com/s?k={search_query}\"\n",
    "    return get_proxy(url)\n",
    "\n",
    "#### A function to get the contents of individual product pages using 'data-asin' number (unique identification number)\n",
    "def search_asin(asin):\n",
    "    url = f\"https://www.amazon.com/dp/{asin}\"\n",
    "    return get_proxy(url)\n",
    "\n",
    "#### A function to pass on the link of 'see all reviews' and extract the content\n",
    "def search_reviews(review_link):\n",
    "    url = \"https://www.amazon.com{review_link}\"\n",
    "    return get_proxy(url)\n"
   ]
  },
  {
   "cell_type": "code",
   "execution_count": null,
   "metadata": {},
   "outputs": [],
   "source": []
  },
  {
   "cell_type": "code",
   "execution_count": null,
   "metadata": {},
   "outputs": [],
   "source": []
  },
  {
   "cell_type": "markdown",
   "metadata": {},
   "source": [
    "### Product Name extraction"
   ]
  },
  {
   "cell_type": "code",
   "execution_count": 14,
   "metadata": {},
   "outputs": [
    {
     "name": "stdout",
     "output_type": "stream",
     "text": [
      "Start to extract product names\n",
      "Iteration 1/21\n",
      "Iteration 2/21\n",
      "Iteration 3/21\n",
      "Iteration 4/21\n",
      "Iteration 5/21\n",
      "Iteration 6/21\n",
      "Iteration 7/21\n",
      "Iteration 8/21\n",
      "Iteration 9/21\n",
      "Iteration 10/21\n",
      "Iteration 11/21\n",
      "Iteration 12/21\n",
      "Iteration 13/21\n",
      "Iteration 14/21\n",
      "Iteration 15/21\n",
      "Iteration 16/21\n",
      "Iteration 17/21\n",
      "Iteration 18/21\n",
      "Iteration 19/21\n",
      "Iteration 20/21\n",
      "Finished extract product names\n",
      "['TCL 32S325 32 Inch 720p Roku Smart LED TV (2019)', 'Samsung UN65RU7100FXZA Flat 65-Inch 4K UHD 7 Series Ultra HD Smart TV with HDR and Alexa Compatibility (2019 Model)', 'TCL 43S425  43 Inch 4K Ultra HD Smart Roku LED TV (2018)', 'LG 65UM7300PUA Alexa Built-in 65\" 4K Ultra HD Smart LED TV (2019)', 'Samsung Electronics 4K Smart LED TV (2018), 55\" (UN55NU6900FXZA)', 'TOSHIBA 50LF711U20 50-inch 4K Ultra HD Smart LED TV HDR - Fire TV Edition', 'Samsung UN55RU8000FXZA Flat 55-Inch 4K 8 Series Ultra HD Smart TV with HDR and Alexa Compatibility (2019 Model)', 'Samsung QN43Q60RAFXZA Flat 43-Inch QLED 4K Q60 Series Ultra HD Smart TV with HDR and Alexa Compatibility (2019 Model)', 'LG 70UM7370PUA Alexa Built-in 70\" 4K Ultra HD Smart LED TV (2019)', 'TCL 55\" Class 6-Series 4K UHD QLED Dolby VISION HDR Roku Smart TV - 55R625', 'LG 86UM8070PUA 86\" 4K Ultra HD Smart LED TV (2019), Black', 'LG 75UM7570PUD Alexa Built-in 75\" 4K Ultra HD Smart LED TV (2019)', 'Komodo by Sceptre KU515R 50\" 4K UHD Ultra Slim LED TV 3840x2160 Memc 120, Metal Black 2019', 'VIZIO D-Series 24” Class (23.5\" Diag.) Smart TV', 'LG Electronics 24LH4830-PU 24-Inch Smart LED TV (2016 Model)', 'Pluto TV - It’s Free TV', 'Sceptre Android TV A322BV-SRC 32-inch Smart LED HD TV Google Assistant Chromecast Bluetooth Remote, Machine Black 2020', 'Komodo by Sceptre KU515R 50\" 4K UHD Ultra Slim LED TV 3840x2160 Memc 120, Metal Black 2019', 'TCL 55\" Class 5-Series 4K UHD Dolby Vision HDR Roku Smart TV - 55S525', 'Samsung Electronics UN32N5300AFXZA 32\" 1080p Smart LED TV (2018), Black', 'TCL 55\" Class 6-Series 4K UHD QLED Dolby VISION HDR Roku Smart TV - 55R625', 'Pluto TV - It’s Free TV', 'SAMSUNG QN32Q50RAFXZA Flat 32\" QLED 4K 32Q50 Series Smart TV2019', 'VIZIO V405-G9 40 Inch Class V-Series 4K HDR Smart TV (Renewed)', 'LG 75UM7570PUD Alexa Built-in 75\" 4K Ultra HD Smart LED TV (2019)', 'LG 70UM7370PUA Alexa Built-in 70\" 4K Ultra HD Smart LED TV (2019)', 'Westinghouse 24\" HD LED TV', 'Sony X800G 75 Inch TV: 4K Ultra HD Smart LED TV with HDR and Alexa Compatibility - 2019 Model', 'LG 86UM8070PUA 86\" 4K HDR Smart LED IPS TV w/AI ThinQ 2019 Model with Home Theater 31\" Soundbar, Wireless Backlit Keyboard, Flat Wall Mount Kit & SurgePro 6-Outlet Surge Adapter', 'Myonaz LED HD TV 24 inch 1080p Flat Screen TV HDMI USB, PC Audio, RF, VGA (2020 Model)', 'Samsung QN65Q70RAFXZA Flat 65-Inch QLED 4K Q70 Series Ultra HD Smart TV with HDR and Alexa Compatibility (2019 Model)', 'Sony XBR75X900F 75-Inch 4K Ultra HD Smart LED TV with Alexa Compatibility', 'Hisense 55R8F 55-Inch 4K ULED Roku Smart TV with Alexa and Google Assistant Compatibility (2020)', 'Hisense 32H4F 32-Inch LED Roku Smart TV with Alexa and Google Assistant Compatibility (2020)', 'LG 75UM7570PUD Alexa Built-in 75\" 4K Ultra HD Smart LED TV (2019)', 'Sling TV', 'Sony X800H 65 Inch TV: 4K Ultra HD Smart LED TV with HDR and Alexa Compatibility - 2020 Model', 'LG 75UM6970PUB 75-in HDR 4K UHD Smart IPS LED TV (2019)', 'VIZIO 50in Class 4K Ultra HD (2160P) HDR Smart LED TV (D50x-G9 / V505-G9) (Renewed)', 'SAMSUNG QN32Q50RAFXZA Flat 32\" QLED 4K 32Q50 Series Smart TV2019', 'LG 65SM8600PUA Alexa Built-in Nano 8 Series 65\" 4K Ultra HD Smart LED NanoCell TV (2019)', 'Samsung 65” Q800T QLED 8K UHD Smart TV with Alexa Built-in QN65Q800TAFXZA 2020', 'LG 55\" Class 7300 Series 4K Ultra HD Smart HDR TV w/AI ThinQ - 55UM7300AUE', 'Westinghouse 40 inch Roku Full HD LED Smart TV', 'Vizio D-Seires 32\" Class 720p HD Full-Array LED Smart TV with Chromecast Built-in and SmartCast (Renewed)', 'Sony X800G 55 Inch TV: 4K Ultra HD Smart LED TV with HDR and Alexa Compatibility - 2019 Model', 'Hisense 50R7E 50-inch 4K Ultra HD Roku Smart LED TV HDR (2019)', 'TCL 43S425 43 Inch 4K Ultra HD Smart Roku LED TV (2018) (Renewed)', 'VIZIO V405-G9 40 Inch Class V-Series 4K HDR Smart TV (Renewed)', 'Vizio D40F-G9 40-inch 1080p Full Array LED SmartCast HDTV (Renewed)', 'Samsung Electronics UN32J4000C 32-Inch 720p LED TV (2015 Model)', 'SuperSonic SC-1512 LED Widescreen HDTV 15.6\", Built-in DVD Player with HDMI, USB, SD & AC/DC Input: DVD/CD/CDR High Resolution and Digital Noise Reduction', 'Sceptre 32\" Class HD (720P) LED TV (X322BV-SR)', 'LG 86UM8070PUA 86\" 4K Ultra HD Smart LED TV (2019), Black', 'Sceptre X328BV-SR 32-Inch 720p LED TV (2017 Model)', 'Apple TV', 'RCA 24-Inch 1080p 60Hz LED HDTV (Black)', 'USB LED Light Strip TV Backlight for 32-60 Inch TV LED Bias Lighting, Mood Lighting Decoration for Home Theater, Gaming Room, Man Cave, 16 Colors, 4 Modes, 8.2ft', 'Hisense 50R7E 50-inch 4K Ultra HD Roku Smart LED TV HDR (2019)', 'LG 75UM7570PUD Alexa Built-in 75\" 4K Ultra HD Smart LED TV (2019)', 'Caixun C32 32\" Inch 720p Smart LED TV, Built-in with HDMI, USB, High Resolution and Digital Noise Reduction(2020 Model)', 'VIZIO D-Series 24” Class LED HDTV Smart TV - D24f-G9', 'TCL 43\" Class 5-Series 4K UHD Dolby Vision HDR Roku Smart TV - 43S525', 'TCL 32S305 32-Inch 720p Roku Smart LED TV (2017 Model)', 'HITACHI(R) 43C61 43-Inch UltraHD Series 4K Ultra HDTV, 43 inches, Black', 'Hisense 50H8F 50-inch 4K Ultra HD Android Smart LED TV HDR10 (2019)', 'Sceptre 32\" Class HD (720P) LED TV (X322BV-SR)', 'Samsung Electronics UN32M4500A 32-Inch 720p Smart LED TV (2017 Model)', 'TV (The Book): Two Experts Pick the Greatest American Shows of All Time', 'VIZIO M-Series Quantum 43” Class (42.5” diag.) 4K HDR Smart TV', 'Sceptre 65\" Class 4K (2160P) LED TV (U650CV-U)', 'Sceptre 18\" LED HDTV HDMI VGA USB Clear QAM, Brushed Black 2019 (E185BV-SSC)', 'VIZIO V V556-G1 54.5 Smart LED-LCD TV - 4K UHDTV - Black - Full Array LED Backlight - Google Assis', 'Vizio M507-G1 50-inch Quantum 4K Ultra HD 2160p 120Hz HDR Dolby Vision SmartCast HDTV (Renewed)', 'TCL 40S325 40 Inch 1080p Smart LED Roku TV (2019) (Renewed)', 'Vizio V405-G9 40-inch 4K 2160p 120hz LED Smart HDR Ultra HDTV (Renewed)', 'Westinghouse 24\" HD LED TV', 'VIZIO M-Series Quantum 50” Class (49.5” diag.) 4K HDR Smart TV', 'LG 32LM570BPUA 32\" Class 720p Smart LED HD TV (2019)', 'LG 32LM620BPUA 32\" Class 720p Smart LED HD TV (2019)', 'Samsung Electronics UN32J4001  32-Inch 720p LED TV (2017 Model)', 'Apple TV', 'Samsung 65” Q800T QLED 8K UHD Smart TV with Alexa Built-in QN65Q800TAFXZA 2020', 'Vizio D40F-G9 40-inch 1080p Full Array LED SmartCast HDTV (Renewed)', 'Samsung Electronics UN32J4000C 32-Inch 720p LED TV (2015 Model)', \"VIZIO SmartCast D-Series 32' Class FHD (1080P) Smart Full-Array LED TV D32f-F1 (Renewed)\", 'Tyler 13.3-Inch Digital LED HDTV Widescreen Television - Full Ultra HD 1080p Monitor Flat Screen TV w/ Stand - HDMI, USB, RCA, VGA, USB, Coax Input – Wall Mountable – Mac PC – Stereo Speakers - AC/DC', 'LG 43UM7300 / 43UM7300PUA / 43UM7300PUA 43 inch Class 4K Smart UHD TV w/AI ThinQ (42.5 Diag) (Renewed)', 'Samsung UN50NU6900 50\" NU6900 Smart 4K UHD TV (2018) w/Accessories Bundle Includes, 2X 6ft HDMI Cable, LED TV Screen Cleaner (Large Bottle) and SurgePro 6-Outlet Surge Adapter w/Night Light', 'Hunters - Season 1 (4K UHD)', 'LG 60UM6900 60-inch HDR 4K UHD Smart LED TV (2019) Bundle with Deco Mount Flat Wall Mount Kit, Deco Gear Wireless Backlit Keyboard and 6-Outlet Surge Adapter with Night Light', 'Pyle 15.6-Inch 1080p LED TV | Ultra HD TV | LED Hi Res Widescreen Monitor with HDMI Cable RCA Input | LED TV Monitor | Audio Streaming | Mac PC | Stereo Speakers | HD TV Wall Mount (PTVLED15)', 'Vizio D-Seires 32\" Class 720p HD Full-Array LED Smart TV with Chromecast Built-in and SmartCast (Renewed)', 'LG OLED65C9PUA Alexa Built-in C9 Series 65\" 4K Ultra HD Smart OLED TV (2019)', 'Sceptre 65\" Class 4K (2160P) LED TV (U650CV-U)', 'Free Signal TV Transit 32\" 12 Volt DC Powered LED Flat Screen HDTV for RV Camper and Mobile Use', 'VIZIO 50\" Class V-Series 4K Ultra HD (2160p) Smart LED TV (V505-G9) (Renewed)', 'Samsung UN50NU6900 50\" NU6900 Smart 4K UHD TV (2018) w/Accessories Bundle Includes, 2X 6ft HDMI Cable, LED TV Screen Cleaner (Large Bottle) and SurgePro 6-Outlet Surge Adapter w/Night Light', 'Sceptre 65\" Class 4K (2160P) LED TV (U650CV-U)', 'LG Electronics OLED55B8PUA 55-Inch 4K Ultra HD Smart OLED TV (2018 Model)', 'LG Electronics 49UK6300PUE 49-Inch 4K Ultra HD Smart LED TV (2018 Model)', 'LG 43UM7300 / 43UM7300PUA / 43UM7300PUA 43 inch Class 4K Smart UHD TV w/AI ThinQ (42.5 Diag) (Renewed)', 'Hisense 40H5590F 40 H55 Series HD Android Smart TV (Renewed)', 'Vizio V405-G9 40-inch 4K 2160p 120hz LED Smart HDR Ultra HDTV (Renewed)', 'LG 32LM620BPUA 32\" Class 720p Smart LED HD TV (2019)', 'Pyle 15.6-Inch 1080p LED TV | Ultra HD TV | LED Hi Res Widescreen Monitor with HDMI Cable RCA Input | LED TV Monitor | Audio Streaming | Mac PC | Stereo Speakers | HD TV Wall Mount (PTVLED15)', 'TCL 55R617 55-Inch 4K Ultra HD Roku Smart LED TV (2018 Model)', 'Skyworth 55U5200 55 Inch U5 Series 4K Android Smart UHD TV', 'Free Signal TV Transit 32\" 12 Volt DC Powered LED Flat Screen HDTV for RV Camper and Mobile Use', 'Vizio D32F-G D-Series 32\" Class 1080p LED LCD Smart Full-Array LED LCD TV (2019 Model) (Renewed)', 'Sceptre 18\" LED HDTV HDMI VGA USB Clear QAM, Brushed Black 2019 (E185BV-SSC)', 'VIZIO V-Series 43” Class (42.5” Diag.) 4K HDR Smart TV (Renewed)', 'Sceptre 32-Inch LED HDTV HDMI MHL USB, Just Black 2018', 'LG 32in Class HD (720P) LED TV (32LJ500B) (Renewed)', 'AT&T TV', 'Samsung QN82Q900RB 82-inch Q900 QLED Smart 8K UHD TV (2019 Model) Bundle 510W 7.1.4-Channel Soundbar System with Wireless Subwoofer with Instant $600 Saving', 'LG 28\" Black 720P LED HDTV', 'LG 43UM7300PUA 43\" 4K HDR Smart LED IPS TV w/AI ThinQ (2019) + Slim Flat Wall Mount Ultimate Bundle + 2.4GHz Wireless Keyboard Smart Remote w/Touchpad + 6-Outlet Surge Adapter w/Night Light', 'Sony KDL32W600D 32-Inch HD Smart TV - Black', 'Samsung 50\" RU7100 LED Smart 4K UHD TV 2019 Model (UN50RU7100FXZA) with Slim Flat Wall Mount Kit Ultimate Bundle for 45-90 inch TVs, Screen Cleaner for LED TVs & SurgePro 6-Outlet Surge Adapter', 'Vizio 40\" Class (39.5\" Diag.) 4K HDR Smart TV', 'Samsung 40\" TV', 'Samsung Electronics UN32J4000C 32-Inch 720p LED TV (2015 Model)', 'Sceptre X328BV-SR 32-Inch 720p LED TV (2017 Model)', 'Proscan PLDED3273A 32\" 720p 60Hz Direct LED HD TV', 'Samsung 43 Inch BE43R FHD 1920x1080 Direct-Lit LED Commercial TV for Digital Signage with HDMI, USB, TV Tuner and Speakers 300 nits (LH43BERBLGAXGO), Black', 'Tommy Season 1', 'LG 32LM500BPUA 32\" LED HD 720p TV (2019 Model)', 'AT&T TV', 'Samsung 65” Q800T QLED 8K UHD Smart TV with Alexa Built-in QN65Q800TAFXZA 2020', 'Hitachi 40C311 40\" Class 1080p LED TV', 'Vizio D40F-G9 40-inch 1080p Full Array LED SmartCast HDTV (Renewed)', 'Tommy Season 1', 'Philips, 24\" LED-LCD TV, 24PFL3603/F7', 'TiVo Edge for Cable | Cable TV, DVR and Streaming 4K UHD Media Player with Dolby Vision HDR and Dolby Atmos', 'Free Signal TV Transit 40\" 12 Volt DC Powered 1080p LED Flat Screen HDTV for RV Camper and Mobile Use', 'Samsung 55-inch RU7300 HDR 4K UHD Smart Curved LED TV (2019) Bundle with Deco Gear Soundbar with Subwoofer, Wall Mount Kit, Deco Gear Wireless Keyboard, Cleaning Kit and 6-Outlet Surge Adapter', 'Pyle 23.6-Inch 1080p LED TV | Ultra HD TV | LED Hi Res Widescreen Monitor with HDMI cable RCA Input | LED TV Monitor | Audio Streaming | Mac PC | Stereo Speakers | HD TV Wall Mount (PTVLED23)', 'LG 32LM570BPUA 32\" Class 720p Smart LED HD TV (2019)', 'Supersonic SC-1511 White 15.6\" 1080p LED Widescreen HDTV with HDMI & USB Input', 'Samsung UN65RU8000 65\" RU8000 LED Smart 4K UHD TV (2019) w/Soundbar Bundle Includes, Deco Gear Home Theater Surround Sound 31\" Soundbar, Screen Cleaner, 2X HDMI Cable and 6-Outlet Surge Adapter', 'Sony XBR-X850G 85-Inch 4K Ultra HD LED TV (2019 Model) - XBR85X850G (Renewed)', 'Sony KDL32W600D 32-Inch HD Smart TV with Sony S200F 2.1ch Soundbar with Built-in subwoofer (HT-S200F)', 'SANSUI S43 43\" Inch 1080p Smart TV, Slim and Lightweight Design, Built-in with HDMI, USB, High Resolution and Digital Noise Reduction(2020 Model)', 'Caixun C24 24\" Inch 720p LED HDTV, Built-in with HDMI, USB, High Resolution and Digital Noise Reduction(2020 Model)', 'LG OLED65B7P 65-Inch 4K 120Hz Full Web OLED TV (Renewed)', 'LG OLED65B9PUA B9 65\" 4K HDR Smart OLED TV with AI ThinQ (2019) Bundle with Deco Gear Home Theater Soundbar, Flat Wall Mount Kit, Wireless Keyboard and 6-Outlet Surge Adapter with Night Light', 'Samsung Electronics UN32M4500A 32-Inch 720p Smart LED TV (2017 Model)', '50” 1080p HDTV LED Television - Hi Res Widescreen Monitor Ultra HD TV with HDMI, RCA Input, Audio Streaming, Headphones, Stereo Speaker, Mounts on Wall, Works w/Mac PC, Includes Remote Control - Pyle', 'VIZIO D-Series 24” Class LED HDTV Smart TV - D24f-G9', 'LG 82UM8070PUA 82\" 4K HDR LED TV (2019) AI ThinQ with Deco Gear Soundbar Bundle', 'VIZIO 50\" Class V-Series 4K Ultra HD (2160p) Smart LED TV (V505-G9) (Renewed)', 'LG 55UM6910 55-inch HDR 4K UHD Smart IPS LED TV (2019) Bundle with Deco Mount Flat Wall Mount Kit, Deco Gear Wireless Backlit Keyboard and 6-Outlet Surge Adapter with Night Light', 'Sceptre U550CV-U 55\" 4K Ultra HD 2160p 60Hz LED HDTV (4K x 2K)', 'Frndly TV', 'LG 55UM7300PUA 55\" 4K HDR Smart LED IPS TV w/AI ThinQ (2019) + Flat Wall Mount Ultimate Bundle + 2.4GHz Wireless Keyboard Smart Remote w/Touchpad + 6-Outlet Surge Adapter w/Night Light', 'SKYWORTH Q20300 55\" INCH 4K UHD LED HDR A53 Quad-CORE Android TV Smart 55Q20300 with Voice Control Smart Remote, Google Assistant, 1mm Thin Bezel, and Two 10W Speakers', 'Samsung UN55RU7300 55\" RU7300 HDR 4K UHD Smart Curved LED TV (2019 Model) with Home Theater Surround Sound 31\" Soundbar Bundle Includes Screen Cleaner + 6-Outlet Surge Adapter + 2X HDMI Cable Black', 'Vizio V405-G9 40-inch 4K 2160p 120hz LED Smart HDR Ultra HDTV (Renewed)', 'RCA Roku Smart LED HD TV (4K, 50-Inch)', 'Proscan PLDED4016A 40-Inch 1080p Full HD LED TV', 'LG 65SM8100AUA Alexa Built-in Nano 8 Series 65\" 4K Ultra HD Smart LED NanoCell TV (2019)', 'TCL 75S425 75-inch 4-Series 4K Ultra HD Roku Smart TV (2019 Model) Bundle with 37-70-inch Low Profile Wall Mount Kit, Deco Gear Wireless Keyboard and 6-Outlet Surge Adapter with Night Light', 'Free Signal TV Transit 32\" 12 Volt DC Powered LED Flat Screen HDTV for RV Camper and Mobile Use', 'XUMO: FREE MOVIES & TV', 'Sony XBR-X850G 85-Inch 4K Ultra HD LED TV (2019 Model) - XBR85X850G (Renewed)', 'Samsung UN50NU6900 50\" NU6900 Smart 4K UHD TV (2018) w/Accessories Bundle Includes, 2X 6ft HDMI Cable, LED TV Screen Cleaner (Large Bottle) and SurgePro 6-Outlet Surge Adapter w/Night Light', 'RCA RT3205 32 HD LED TV (Renewed)', \"Hisense 120L10E Ultra Short Throw 4K UHD Smart HDR Home Theater Projector Laser TV with 120'' Ambient Light Rejection Screen, Harman Kardon Sound DBX-tv, Wireless subwoofer, Alexa Voice Remote\", 'Samsung Electronics QN82Q8FNBFXZA FLAT 82\" QLED 4K UHD 8 Series Smart TV, 2018', 'AXESS TV1703-40 40-Inch 1080p LED HDTV, Features VGA/3xHDMI/Headphone Inputs, Built-In Digital Speakers, Noise Reduction, Full Function Remote', 'LG 65UM6900 65-inch 4K UHD Smart TV with TruMotion 120 (2019) Bundle with Deco Gear Soundbar with Subwoofer, Wall Mount Kit, Deco Gear Wireless Keyboard and 6-Outlet Surge Adapter', 'Samsung QN82Q70RA 82\" (3840 x 2160) Smart 4K Ultra High Definition QLED TV - (Renewed)', 'Sony XBR65X850F 65-Inch 4K Ultra HD Smart LED TV', 'Sony XBR-77A9G 77 Inch TV: MASTER Series BRAVIA OLED 4K Ultra HD Smart TV with HDR and Alexa Compatibility - 2019 Model', 'LG 65SM8600PUA 65-inch 4K HDR Smart LED NanoCell TV with AI ThinQ (2019) Bundle with Deco Gear 60W Soundbar with Subwoofer, Wall Mount Kit, Deco Gear Wireless Keyboard and 6-Outlet Surge Adapter', 'TCL 65S425 65-inch 4-Series 4K Ultra HD Roku Smart TV (2019 Model) Bundle with 37-70-inch Low Profile Wall Mount Kit, Deco Gear Wireless Keyboard and 6-Outlet Surge Adapter with Night Light', 'Sony XBR65X900F 65-Inch 4K Ultra HD Smart LED TV (Renewed)', 'RCA 32 Inch LED HD TV', 'LG Series 8 OLED65C8AUA 65-Inch 4K Ultra HD Smart OLED TV (2018 Model)(Renewed)', 'VIZIO D-Series 40” Class Smart TV - D40f-G9', 'Sony X830F 70 Inch TV: 70 in Bravia 4K Ultra HD Smart LED Television with HDR, 70-Inch', 'Sceptre X438BV-FSR 43 inches 1080p LED TV Metal Black 2018', 'Sceptre 18\" LED HDTV HDMI VGA USB Clear QAM, Brushed Black 2019 (E185BV-SSC)', 'Amazon Fire TV For Dummies (For Dummies (Computer/Tech))', 'SANSUI S32 32\" Inch 720p Smart LED TV, Built-in with HDMI, USB, High Resolution and Digital Noise Reduction(2020 Model)', 'Samsung UN43NU7100FXZA Flat 43\" 4K UHD 7 Series Smart LED TV (2018)', 'LG 43UM6910PUA 43-in 4K UHD TM120 Smart LED TV (2019)', 'HD Video For YouTube', 'Samsung UN43NU6900 43\" NU6900 Smart 4K UHD TV (2018) w/Wall Mount Bundle Includes, Wall Mount Kit for 19-45 inch TVs, Screen Cleaner (Large Bottle) and SurgePro 6-Outlet Surge Adapter w/Night Light', 'LG OLED77C9PUB Alexa Built-in C9 Series 77\" 4K Ultra HD Smart OLED TV (2019), 77-Inch', 'Samsung QN55LS01RAFXZA Serif 55-Inch QLED 4K LS01 Series Ultra HD Smart TV with HDR and Alexa Compatibility (2019 Model)', 'Sony KD43X750F 43-Inch 4K Ultra HD Smart LED TV', 'LG 32in Class HD (720P) LED TV (32LJ500B) (Renewed)', 'VIZIO D32-D1 D-Series 32\" Class Full Array LED Smart TV (Black)', 'Free Signal TV Transit 22\" 12 Volt DC Powered LED Flat Screen HDTV for RV Camper and Mobile Use', 'Samsung QN43LS03RAFXZA Frame 43-Inch QLED 4K LS03 Series Ultra HD Smart TV with HDR and Alexa Compatibility (2019 Model)', 'Premium 32 Inch LED TV - 32inch LED Backlight Flat Screen Television - Hi Res 32in 1080p Ultra HD TV w/ HDMI, RCA, VGA - Works w/ Mac, PC - Remote Control, VESA Wall Mount Compatible - Pyle PTVLED32\\ufeff', 'Amazon Fire TV For Dummies (For Dummies (Computer/Tech))', 'LG 50\" Class 7300 Series 4K Ultra HD Smart HDR TV w/AI ThinQ - 50UM7300AUE', 'Manifest: Season 2', 'Sceptre U550CV-UMR 55-Inch 4K Ultra HD MEMC 120 LED UTV 3840 x 2160 - Black', 'LG 65SM8600PUA 65-inch 4K HDR Smart LED NanoCell TV with AI ThinQ (2019) Bundle with Deco Gear 60W Soundbar with Subwoofer, Wall Mount Kit, Deco Gear Wireless Keyboard and 6-Outlet Surge Adapter', '50” 1080p HDTV LED Television - Hi Res Widescreen Monitor Ultra HD TV with HDMI, RCA Input, Audio Streaming, Headphones, Stereo Speaker, Mounts on Wall, Works w/Mac PC, Includes Remote Control - Pyle', 'LG 60UM6900 60-inch HDR 4K UHD Smart LED TV (2019) Bundle with Deco Mount Flat Wall Mount Kit, Deco Gear Wireless Backlit Keyboard and 6-Outlet Surge Adapter with Night Light', 'Proscan PLDED3273A 32\" 720p 60Hz Direct LED HD TV', 'Samsung UN40J5200 40-Inch 1080p Smart LED TV (2015 Model)', 'Samsung Electronics UN32N5300AFXZA 32inch 1080p Smart LED TV (2018) Black (Renewed)', 'HD Video For YouTube', 'RCA Home + Travel HD LED TV 19\", RT1971-AC, includes AC/DC car charger', 'Westinghouse 32 inch 720p 60Hz LED HD TV', 'VIZIO 32in Class HD (720P) LED TV (D32hn-E4) (Renewed)', \"Samsung UN55RU7100FXZA FLAT 55'' 4K UHD 7 Series Smart TV (2019) (Renewed)\", 'Samsung Electronics UN32M4500BFXZA 720P Smart LED TV, 32\" (2018)', 'LG 75UM6970 75 inch HDR 4K UHD Smart IPS LED TV 2019 Model Bundle with Soundbar with Subwoofer, Wall Mount Kit Wireless Backlit Keyboard and 6-Outlet Surge Adapter', 'LG Electronics 49LJ550M 49-Inch Class Full HD 1080p Smart LED TV 2018 Model', 'Samsung UN65NU7300 Curved 65 Inch 4K UHD 7 Series Smart TV 2018', 'VIZIO V V655-G9 64.5 Smart LED-LCD TV - 4K UHDTV - Black - Full Array LED Backlight - Google Assis', 'Philips, 24\" LED-LCD TV, 24PFL3603/F7', 'Free Signal TV Transit 40\" 12 Volt DC Powered 1080p LED Flat Screen HDTV for RV Camper and Mobile Use', 'LG Electronics 49SK8000 49-Inch 4K Ultra HD Smart LED TV (2018 Model)', 'RCA 40-Inch 1080P Full HD LED TV', 'Samsung UN55NU6900 55\" NU6900 Smart 4K UHD TV (2018) w/Wall Mount Bundle Includes, Wall Mount Kit for 45-90 inch TVs, Screen Cleaner (Large Bottle) and SurgePro 6-Outlet Surge Adapter w/Night Light', 'LG 65SM8100AUA Alexa Built-in Nano 8 Series 65\" 4K Ultra HD Smart LED NanoCell TV (2019)', 'SANSUI S32 32\" Inch 720p Smart LED TV, Built-in with HDMI, USB, High Resolution and Digital Noise Reduction(2020 Model)', 'LG Electronics 49SK8000 49-Inch 4K Ultra HD Smart LED TV (2018 Model)', 'RCA Home + Travel HD LED TV 19\", RT1971-AC, includes AC/DC car charger', 'LG LM5700PUA 43-inch HDR Full HD Smart LED TV', 'Vizio - V605-G3 - VIZIO V V605-G3 60 Smart LED-LCD TV - 4K UHDTV - Black - Full Array LED Backlight - Google Assistant, Alexa Supported', 'RCA 40-Inch 1080P Full HD LED TV', 'All or Nothing: Philadelphia Eagles - Season 5', 'Caixun C32 32\" Inch 720p Smart LED TV, Built-in with HDMI, USB, High Resolution and Digital Noise Reduction(2020 Model)', 'Free Signal TV Transit 28\" 12 Volt DC Powered LED Flat Screen HDTV for RV Camper and Mobile Use', 'Fios TV', 'RCA Roku Smart LED HD TV (4K, 50-Inch)', 'LG Electronics 43UJ6300 43-Inch 4K Ultra HD Smart LED TV (2017 Model)', 'Samsung QN65Q900RBFXZA Flat 65-Inch QLED 8K Q900 Series Ultra HD Smart TV with HDR and Alexa Compatibility (2019 Model), Black', 'Samsung UN55RU7300 55\" RU7300 HDR 4K UHD Smart Curved LED TV (2019 Model) with Home Theater Surround Sound 31\" Soundbar Bundle Includes Screen Cleaner + 6-Outlet Surge Adapter + 2X HDMI Cable Black', 'LG 75SM8670PUA 75 inch 4K HDR Smart LED IPS TV with AI ThinQ 2019 Model Bundle with Soundbar with Subwoofer, Wall Mount Kit Wireless Backlit Keyboard and 6-Outlet Surge Adapter', 'LG 32LM570BPUA 32\" HDR Smart LED HD TV (2019) w/Wall Mount Bundle Includes, Deco Mount Flat Wall Mount Kit, 2X 6ft HDMI Cable, SurgePro 6-Outlet Surge Adapter w/Night Light & Universal Screen Cleaner', 'Sceptre 50\" Class FHD (1080P) LED TV (X505BV-FSR)', 'LG 65UM6900 65-inch 4K UHD Smart TV with TruMotion 120 (2019) Bundle with Deco Gear Home Theater Surround Sound 31-inch Soundbar and 6ft Optical Toslink 5.0mm OD Audio Cable', 'Sceptre E195BV-SR 19\" Slim LED HDTV 720p with HDMI USB VGA Inputs, Fine Black (2017)', 'Free Signal TV Transit 22\" 12 Volt DC Powered LED Flat Screen HDTV for RV Camper and Mobile Use', 'Samsung UN55NU8500FXZA Curved 55\" 4K UHD 8 Series Smart LED TV (2018)', 'LG 55SM8600PUA 55-inch 4K HDR Smart LED NanoCell TV with AI ThinQ (2019) Bundle with Deco Gear Soundbar with Subwoofer, Wall Mount Kit, Deco Gear Wireless Keyboard and 6-Outlet Surge Adapter', 'LG 43UK6090PUA: 43 Inch Class 4K HDR Smart LED UHD TV | LG USA (Renewed)', 'Proscan PLDED3273A 32\" 720p 60Hz Direct LED HD TV', 'Pyle 23.6-Inch 1080p LED TV | Ultra HD TV | LED Hi Res Widescreen Monitor with HDMI cable RCA Input | LED TV Monitor | Audio Streaming | Mac PC | Stereo Speakers | HD TV Wall Mount (PTVLED23)', 'RCA 24-Inch 1080p 60Hz LED HDTV (Black)', 'SKYWORTH Q20300 55\" INCH 4K UHD LED HDR A53 Quad-CORE Android TV Smart 55Q20300 with Voice Control Smart Remote, Google Assistant, 1mm Thin Bezel, and Two 10W Speakers', '49UK6090 UK6090PUA 4K HDR Smart LED UHD TV - 49\" Class (48.5\" Diag)', 'Samsung UN82RU8000 82\" (3840 x 2160) Smart 4K Ultra High Definition TV (2019) - (Renewed)', 'Sony XBR-X850G 85-Inch 4K Ultra HD LED TV (2019 Model) - XBR85X850G (Renewed)', 'VIZIO 32\" Class HD (720p) Smart LED TV (D32h-F1)', 'Red Bull TV', 'LG 55UM6910 55 inch HDR 4K UHD Smart IPS LED TV 2019 Model Bundle with Soundbar with Subwoofer, Wall Mount Kit Wireless Backlit Keyboard and 6-Outlet Surge Adapter', 'Supersonic 19\" Class LED HDTV with USB and HDMI Inputs', 'Insignia 50\" LED 1080p HDTV', \"The Complete America's Test Kitchen TV Show Cookbook 2001 - 2019: Every Recipe from the Hit TV Show with Product Ratings and a Look Behind the Scenes\", 'LG 32LM570BPUA 32\" HDR Smart LED HD TV (2019) w/Accessories Bundle Includes, 2X 6ft High Speed HDMI Cable, SurgePro 6-Outlet Surge Adapter w/Night Light and Universal Screen Cleaner', 'Hisense 2018 Model Roku TV 55inch Class R7E (54.6inch diag.) 55R7E 4K UHD Roku TV with HDR (Renewed)', 'Samsung 55-inch RU7300 HDR 4K UHD Smart Curved LED TV (2019) Bundle with Deco Gear Soundbar with Subwoofer, Wall Mount Kit, Deco Gear Wireless Keyboard, Cleaning Kit and 6-Outlet Surge Adapter', 'Sony XBR-65X800G 65-inch 4K Ultra HD LED Smart TV (2019) Bundle with Deco Gear 31-inch Sound Bar, Deco Mount Flat Wall Mount Kit, Deco Gear Wireless Keyboard, 6-Outlet Surge Adapter with Night Light', 'Samsung UN55RU7300 55\" RU7300 HDR 4K UHD Smart Curved LED TV (2019 Model) with Wall Mount Bundle Includes Screen Cleaner + 6-Outlet Surge Adapter + Flat Wall Mount Kit Ultimate Bundle for 45-90 TVs', 'Samsung UN55NU6900 55\" NU6900 Smart 4K UHD TV (2018) w/Wall Mount Bundle Includes, Wall Mount Kit for 45-90 inch TVs, Screen Cleaner (Large Bottle) and SurgePro 6-Outlet Surge Adapter w/Night Light', 'LG 65SM9000 / 65SM9000PUA / 65SM9000PUA Nano 9 Series 4K 65 inch Class Smart UHD NanoCell TV w/AI ThinQ (64.5 Diag) (Renewed)', 'Samsung QN82Q70RA 82\" (3840 x 2160) Smart 4K Ultra High Definition QLED TV - (Renewed)', 'LG 32LM620 32-Inch HD LED Smart TV (Renewed)', 'Deco TV Frames - Gloss White Frame Custom for Samsung The Frame TV (65\")', 'TCL 55S423 55\" 4K UHD HDR Roku Smart TV (Renewed)', 'Jensen JE3217 HD Ready 32\" LED TV, Integrated HDTV Tuner, Stereo Audio Input, Component Video Input, JCOM and CEC Function, VESA 100mm x 100mm Mounting Pattern, Dual-Function Remote Control Included', 'LG 70UM7370 70 inch Class 4K Smart UHD TV w/AI ThinQ (Renewed)', 'LG 65UM6900 65-inch 4K UHD Smart TV with TruMotion 120 (2019) Bundle with Deco Gear Home Theater Surround Sound 31-inch Soundbar and 6ft Optical Toslink 5.0mm OD Audio Cable', 'Hunters - Season 1', 'Samsung UN50RU7100 50-inch RU7100 LED Smart 4K UHD TV (2019) Bundle with Sony WHCH700N/B Wireless Noise Canceling Bluetooth Headphones, Black', 'Sony XBR-X850G 85-Inch 4K Ultra HD LED TV (2019 Model) - XBR85X850G (Renewed)', 'RCA Home and Travel 19\" LED HD TV - with AC/DC CAR Charger RCA Home and Travel 19\" LED HD TV - with AC/DC CAR Charger', 'Jensen JE3217 32\" LED AC Television with Integrated HDTV (ATSC) Tuner and Remote Control, 1366 x 768 WXGA+ Resolution, HDTV Ready (1080p, 720p, 480p), High Performance Wide 16:9 LCD Panel, 110V AC', 'Sceptre 24-Inch LED HDTV E246BV-SR HDMI USB True Black', 'LG 75UM6970 75 inch HDR 4K UHD Smart IPS LED TV 2019 Model Bundle with Soundbar with Subwoofer, Wall Mount Kit Wireless Backlit Keyboard and 6-Outlet Surge Adapter', 'Polaroid A32HM2B 32\" 720p LED TV (2018), Black', 'Pyle 23.6-Inch 1080p LED TV | Ultra HD TV | LED Hi Res Widescreen Monitor with HDMI cable RCA Input | LED TV Monitor | Audio Streaming | Mac PC | Stereo Speakers | HD TV Wall Mount (PTVLED23)', 'Philo', 'TiVo Edge for Cable | Cable TV, DVR and Streaming 4K UHD Media Player with Dolby Vision HDR and Dolby Atmos', 'Westinghouse 32 inch 720p 60Hz LED HD TV', 'Premium 32 Inch LED TV - 32inch LED Backlight Flat Screen Television - Hi Res 32in 1080p Ultra HD TV w/ HDMI, RCA, VGA - Works w/ Mac, PC - Remote Control, VESA Wall Mount Compatible - Pyle PTVLED32\\ufeff', 'VIZIO V V655-G9 64.5 Smart LED-LCD TV - 4K UHDTV - Black - Full Array LED Backlight - Google Assis', 'Philo', 'Samsung UN55NU6900 55\" NU6900 Smart 4K UHD TV (2018) w/Wall Mount Bundle Includes, Wall Mount Kit for 45-90 inch TVs, Screen Cleaner (Large Bottle) and SurgePro 6-Outlet Surge Adapter w/Night Light', 'Hisense 43-Inch 4K Ultra HD Smart LED TV 43H6080E (2018)', 'Roku Express | 5X more powerful HD Streaming (2017) (Renewed)', 'Vizio 24” Class HD (720P) Smart LED TV (D24h-G9) (Renewed)', 'LG 86UM8070PUA 86\" 4K HDR LED TV (2019) AI ThinQ with Deco Gear Soundbar Bundle', 'Sceptre 40\" Class FHD (1080P) LED TV (X405BV-FSR)', 'LG Electronics 49SK8000PUA 49-Inch 4K Ultra HD Smart LED TV (2018 Model) (Renewed)', 'LG 75UM6970 75 inch HDR 4K UHD Smart IPS LED TV 2019 Model Bundle with Soundbar with Subwoofer, Wall Mount Kit Wireless Backlit Keyboard and 6-Outlet Surge Adapter', 'LG Electronics 49LJ5500 49-Inch 1080p Smart LED TV (2017 Model)', 'Westinghouse 32 inch 720p 60Hz LED HD TV', 'Samsung Electronics UN32J4000EFXZA Flat 32\" 720p 4 Series TV (2018), Titan Black; Black', 'TCL 43S517 43-Inch 4K Ultra HD Roku Smart LED TV (2018 Model) (Renewed)', 'LG 32LM620 32-Inch HD LED Smart TV (Renewed)', 'Deco TV Frames - Gloss White Frame Custom for Samsung The Frame TV (65\")', 'LG 65UM6900PUA 65-in 4K UHD TM120 Smart LED TV (2019)', 'AXESS TVD1801-24 24-Inch 1080p LED HDTV, Features 12V Car Cord Technology, VGA/HDMI/SD/USB Inputs, Built-In DVD Player, Full Function Remote', 'Samsung UN65NU8000FXZA Flat 65\" 4K UHD 8 Series Smart LED TV (2018)']\n"
     ]
    }
   ],
   "source": [
    "print(\"Start to extract product names\")\n",
    "\n",
    "product_names = []\n",
    "data_asin = []\n",
    "LAST_PAGE = 21\n",
    "for i in range(1,LAST_PAGE):\n",
    "    print(f\"Iteration {i}/{LAST_PAGE}\")\n",
    "    html = search_in_amazon(SEARCH_QUERY+'&page='+str(i))\n",
    "    soup = BeautifulSoup(html)\n",
    "    for i in soup.findAll(\"span\",{'class':'a-size-medium a-color-base a-text-normal'}):\n",
    "        product_names.append(i.text) # adding the product names to the list\n",
    "\n",
    "    for i in soup.findAll(\"div\", {\"class\":\"s-result-item\"}):\n",
    "        if i['data-asin']:\n",
    "            data_asin.append(i['data-asin'])\n",
    "\n",
    "print(\"Finished extract product names\")\n",
    "print(product_names)"
   ]
  },
  {
   "cell_type": "code",
   "execution_count": 18,
   "metadata": {
    "scrolled": true
   },
   "outputs": [
    {
     "data": {
      "text/plain": [
       "112"
      ]
     },
     "execution_count": 18,
     "metadata": {},
     "output_type": "execute_result"
    }
   ],
   "source": [
    "len(product_names)"
   ]
  },
  {
   "cell_type": "markdown",
   "metadata": {},
   "source": [
    "When scrawling the all pages of product list in specific search query, I could discover that there are same products in the list. <br>\n",
    "Therefore, I needed to remove the same product in the list of ASIN."
   ]
  },
  {
   "cell_type": "code",
   "execution_count": 7,
   "metadata": {},
   "outputs": [
    {
     "ename": "NameError",
     "evalue": "name 'data_asin' is not defined",
     "output_type": "error",
     "traceback": [
      "\u001b[0;31m---------------------------------------------------------------------------\u001b[0m",
      "\u001b[0;31mNameError\u001b[0m                                 Traceback (most recent call last)",
      "\u001b[0;32m<ipython-input-7-ac5d3147ce2f>\u001b[0m in \u001b[0;36m<module>\u001b[0;34m\u001b[0m\n\u001b[0;32m----> 1\u001b[0;31m \u001b[0masin_list\u001b[0m \u001b[0;34m=\u001b[0m \u001b[0mlist\u001b[0m\u001b[0;34m(\u001b[0m\u001b[0mdict\u001b[0m\u001b[0;34m.\u001b[0m\u001b[0mfromkeys\u001b[0m\u001b[0;34m(\u001b[0m\u001b[0mdata_asin\u001b[0m\u001b[0;34m)\u001b[0m \u001b[0;34m)\u001b[0m\u001b[0;34m\u001b[0m\u001b[0;34m\u001b[0m\u001b[0m\n\u001b[0m\u001b[1;32m      2\u001b[0m \u001b[0mdata_asin\u001b[0m \u001b[0;34m=\u001b[0m \u001b[0masin_list\u001b[0m\u001b[0;34m\u001b[0m\u001b[0;34m\u001b[0m\u001b[0m\n\u001b[1;32m      3\u001b[0m \u001b[0;34m\u001b[0m\u001b[0m\n\u001b[1;32m      4\u001b[0m \u001b[0mlink\u001b[0m\u001b[0;34m=\u001b[0m\u001b[0;34m[\u001b[0m\u001b[0;34m]\u001b[0m\u001b[0;34m\u001b[0m\u001b[0;34m\u001b[0m\u001b[0m\n\u001b[1;32m      5\u001b[0m \u001b[0;32mfor\u001b[0m \u001b[0mi\u001b[0m \u001b[0;32min\u001b[0m \u001b[0mrange\u001b[0m\u001b[0;34m(\u001b[0m\u001b[0mlen\u001b[0m\u001b[0;34m(\u001b[0m\u001b[0mdata_asin\u001b[0m\u001b[0;34m)\u001b[0m\u001b[0;34m)\u001b[0m\u001b[0;34m:\u001b[0m\u001b[0;34m\u001b[0m\u001b[0;34m\u001b[0m\u001b[0m\n",
      "\u001b[0;31mNameError\u001b[0m: name 'data_asin' is not defined"
     ]
    }
   ],
   "source": [
    "\n",
    "asin_list = list(dict.fromkeys(data_asin) )\n",
    "data_asin = asin_list\n",
    "\n",
    "link=[]\n",
    "for i in range(len(data_asin)):\n",
    "    print(i)\n",
    "    html = search_asin(data_asin[i])\n",
    "    soup = BeautifulSoup(html)\n",
    "    for i in soup.findAll(\"a\",{'data-hook':\"see-all-reviews-link-foot\"}):\n",
    "        print(i['href'])\n",
    "        link.append(i['href'])"
   ]
  },
  {
   "cell_type": "code",
   "execution_count": null,
   "metadata": {},
   "outputs": [],
   "source": []
  },
  {
   "cell_type": "code",
   "execution_count": 8,
   "metadata": {},
   "outputs": [],
   "source": [
    "search_query_list = []\n",
    "reviews=[]\n"
   ]
  },
  {
   "cell_type": "code",
   "execution_count": null,
   "metadata": {},
   "outputs": [],
   "source": [
    "\n",
    "\n",
    "for j in range(len(link)):\n",
    "    print(j, 'th started')\n",
    "    for k in range(1, 2):\n",
    "        html = search_reviews(link[j]+'&pageNumber='+str(k))\n",
    "        soup = BeautifulSoup(html)\n",
    "        if soup.find('div',\n",
    "                     {\"class\" : \"a-section a-spacing-top-large a-text-center no-reviews-section\"}):\n",
    "            print('No review, Pass')\n",
    "            break\n",
    "        else:\n",
    "            print('There is review')\n",
    "#           for i in soup.findAll(\"span\",{'data-hook':\"review-body\"}):\n",
    "            for i in soup.findAll(\"span\",{'data-hook':\"a-size-base review-text review-text-content\"}):\n",
    "                reviews.append(i.text)\n",
    "                search_query_list.append(search_query)"
   ]
  },
  {
   "cell_type": "code",
   "execution_count": null,
   "metadata": {},
   "outputs": [],
   "source": []
  },
  {
   "cell_type": "code",
   "execution_count": null,
   "metadata": {},
   "outputs": [],
   "source": [
    "rev={'search_query':search_query_list, 'reviews' :reviews} #converting the reviews list into a dictionary\n",
    "review_data=pd.DataFrame.from_dict(rev) #converting this dictionary into a dataframe\n",
    "\n",
    "df = review_data.replace('\\n','', regex=True)\n",
    "\n",
    "writer= pd.ExcelWriter(SEARCH_QUERY+'_review.xlsx')\n",
    "df.to_excel(writer, 'Sheet1', index=False)\n",
    "writer.save()"
   ]
  },
  {
   "cell_type": "code",
   "execution_count": null,
   "metadata": {},
   "outputs": [],
   "source": []
  }
 ],
 "metadata": {
  "kernelspec": {
   "display_name": "Python 3",
   "language": "python",
   "name": "python3"
  },
  "language_info": {
   "codemirror_mode": {
    "name": "ipython",
    "version": 3
   },
   "file_extension": ".py",
   "mimetype": "text/x-python",
   "name": "python",
   "nbconvert_exporter": "python",
   "pygments_lexer": "ipython3",
   "version": "3.6.10"
  }
 },
 "nbformat": 4,
 "nbformat_minor": 2
}
